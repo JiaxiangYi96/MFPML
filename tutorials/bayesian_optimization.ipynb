{
 "cells": [
  {
   "cell_type": "code",
   "execution_count": 1,
   "metadata": {},
   "outputs": [],
   "source": [
    "import numpy as np\n",
    "from mfpml.optimization.sf_uncons_bo import BayesUnconsOpt\n",
    "from mfpml.problems.singlefidelity_functions import Forrester\n",
    "from mfpml.optimization.sf_uncons_acqusitions import EI, LCB, PI\n",
    "from mfpml.models.gaussian_process import GaussianProcessRegression as Kriging\n",
    "from mfpml.design_of_experiment.singlefideliy_samplers import LatinHyperCube"
   ]
  },
  {
   "cell_type": "code",
   "execution_count": 2,
   "metadata": {},
   "outputs": [
    {
     "name": "stdout",
     "output_type": "stream",
     "text": [
      "-6.02074\n"
     ]
    }
   ],
   "source": [
    "func = Forrester()\n",
    "print(func.optimum)\n",
    "sampler = LatinHyperCube(design_space=func.input_domain)\n",
    "\n",
    "# get samples\n",
    "sample_x = sampler.get_samples(num_samples=3)\n",
    "sample_y = func.f(sample_x)"
   ]
  },
  {
   "cell_type": "code",
   "execution_count": 3,
   "metadata": {},
   "outputs": [
    {
     "name": "stdout",
     "output_type": "stream",
     "text": [
      "============= Best objective value at initial samples =========\n",
      " \n",
      "best_y: -3.418439\n",
      "best_x: [0.67458543]\n",
      "error: 0.4322228507806462\n",
      "min_index: 3\n",
      "============= Best objective value at iteration 1 =========\n",
      "best_y: -5.741401\n",
      "best_x: [0.77949142]\n",
      "error: 0.046396\n",
      "min_index: 3\n",
      "============= Best objective value at iteration 2 =========\n",
      "best_y: -5.741401\n",
      "best_x: [0.77949142]\n",
      "error: 0.046396\n",
      "min_index: 3\n",
      "============= Best objective value at iteration 3 =========\n",
      "best_y: -5.741401\n",
      "best_x: [0.77949142]\n",
      "error: 0.046396\n",
      "min_index: 6\n",
      "============= Best objective value at iteration 4 =========\n",
      "best_y: -5.931031\n",
      "best_x: [0.74402342]\n",
      "error: 0.014900\n",
      "min_index: 7\n",
      "============= Best objective value at iteration 5 =========\n",
      "best_y: -6.020722\n",
      "best_x: [0.7570668]\n",
      "error: 0.000003\n"
     ]
    },
    {
     "data": {
      "text/plain": [
       "(-6.020722385585827, array([0.7570668]))"
      ]
     },
     "execution_count": 3,
     "metadata": {},
     "output_type": "execute_result"
    }
   ],
   "source": [
    "# initialize the Bayesian optimization\n",
    "bayes_opt = BayesUnconsOpt(problem=func,\n",
    "                           acquisition=EI(),\n",
    "                           num_init=3,\n",
    "                           verbose=True,\n",
    "                           seed=4)\n",
    "bayes_opt.run_optimizer(max_iter=10, stopping_error=0.01)\n"
   ]
  },
  {
   "cell_type": "code",
   "execution_count": 7,
   "metadata": {},
   "outputs": [
    {
     "data": {
      "text/plain": [
       "array([[0.35231463],\n",
       "       [0.16289082],\n",
       "       [0.67458543],\n",
       "       [0.77949142],\n",
       "       [1.        ],\n",
       "       [0.        ],\n",
       "       [0.74402342],\n",
       "       [0.7570668 ]])"
      ]
     },
     "execution_count": 7,
     "metadata": {},
     "output_type": "execute_result"
    }
   ],
   "source": [
    "bayes_opt.sample"
   ]
  },
  {
   "cell_type": "code",
   "execution_count": 5,
   "metadata": {},
   "outputs": [
    {
     "data": {
      "text/plain": [
       "array([[ 2.92886692e-03],\n",
       "       [-9.30275592e-01],\n",
       "       [-3.41843859e+00],\n",
       "       [-5.74140071e+00],\n",
       "       [ 1.58297319e+01],\n",
       "       [ 3.02720998e+00],\n",
       "       [-5.93103148e+00],\n",
       "       [-6.02072239e+00]])"
      ]
     },
     "execution_count": 5,
     "metadata": {},
     "output_type": "execute_result"
    }
   ],
   "source": [
    "bayes_opt.response"
   ]
  },
  {
   "cell_type": "code",
   "execution_count": 6,
   "metadata": {},
   "outputs": [
    {
     "data": {
      "text/plain": [
       "[-3.418438593390932,\n",
       " -5.741400705806725,\n",
       " -5.741400705806725,\n",
       " -5.741400705806725,\n",
       " -5.931031483337122,\n",
       " -6.020722385585827]"
      ]
     },
     "execution_count": 6,
     "metadata": {},
     "output_type": "execute_result"
    }
   ],
   "source": [
    "bayes_opt.history_best"
   ]
  }
 ],
 "metadata": {
  "kernelspec": {
   "display_name": "mfpml_env",
   "language": "python",
   "name": "python3"
  },
  "language_info": {
   "codemirror_mode": {
    "name": "ipython",
    "version": 3
   },
   "file_extension": ".py",
   "mimetype": "text/x-python",
   "name": "python",
   "nbconvert_exporter": "python",
   "pygments_lexer": "ipython3",
   "version": "3.10.14"
  },
  "orig_nbformat": 4
 },
 "nbformat": 4,
 "nbformat_minor": 2
}
