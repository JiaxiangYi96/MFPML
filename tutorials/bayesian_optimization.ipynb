{
 "cells": [
  {
   "cell_type": "code",
   "execution_count": 1,
   "metadata": {},
   "outputs": [
    {
     "ename": "TypeError",
     "evalue": "unsupported operand type(s) for |: '_GenericAlias' and 'type'",
     "output_type": "error",
     "traceback": [
      "\u001b[1;31m---------------------------------------------------------------------------\u001b[0m",
      "\u001b[1;31mTypeError\u001b[0m                                 Traceback (most recent call last)",
      "Cell \u001b[1;32mIn[1], line 2\u001b[0m\n\u001b[0;32m      1\u001b[0m \u001b[38;5;28;01mimport\u001b[39;00m \u001b[38;5;21;01mnumpy\u001b[39;00m \u001b[38;5;28;01mas\u001b[39;00m \u001b[38;5;21;01mnp\u001b[39;00m\n\u001b[1;32m----> 2\u001b[0m \u001b[38;5;28;01mfrom\u001b[39;00m \u001b[38;5;21;01mmfpml\u001b[39;00m\u001b[38;5;21;01m.\u001b[39;00m\u001b[38;5;21;01moptimization\u001b[39;00m\u001b[38;5;21;01m.\u001b[39;00m\u001b[38;5;21;01msf_uncons_bo\u001b[39;00m \u001b[38;5;28;01mimport\u001b[39;00m BayesUnconsOpt\n\u001b[0;32m      3\u001b[0m \u001b[38;5;28;01mfrom\u001b[39;00m \u001b[38;5;21;01mmfpml\u001b[39;00m\u001b[38;5;21;01m.\u001b[39;00m\u001b[38;5;21;01mproblems\u001b[39;00m\u001b[38;5;21;01m.\u001b[39;00m\u001b[38;5;21;01msinglefidelity_functions\u001b[39;00m \u001b[38;5;28;01mimport\u001b[39;00m Forrester\n\u001b[0;32m      4\u001b[0m \u001b[38;5;28;01mfrom\u001b[39;00m \u001b[38;5;21;01mmfpml\u001b[39;00m\u001b[38;5;21;01m.\u001b[39;00m\u001b[38;5;21;01moptimization\u001b[39;00m\u001b[38;5;21;01m.\u001b[39;00m\u001b[38;5;21;01msf_uncons_acqusitions\u001b[39;00m \u001b[38;5;28;01mimport\u001b[39;00m EI, LCB, PI\n",
      "File \u001b[1;32m~\\GitHub\\mfpml\\src\\mfpml\\__init__.py:2\u001b[0m\n\u001b[1;32m----> 2\u001b[0m \u001b[38;5;28;01mfrom\u001b[39;00m \u001b[38;5;21;01m.\u001b[39;00m\u001b[38;5;21;01mdesign_of_experiment\u001b[39;00m \u001b[38;5;28;01mimport\u001b[39;00m (multifidelity_samplers,\n\u001b[0;32m      3\u001b[0m                                    singlefideliy_samplers)\n\u001b[0;32m      4\u001b[0m \u001b[38;5;28;01mfrom\u001b[39;00m \u001b[38;5;21;01m.\u001b[39;00m\u001b[38;5;21;01mmodels\u001b[39;00m \u001b[38;5;28;01mimport\u001b[39;00m (basis_functions, co_kriging, hierarchical_kriging,\n\u001b[0;32m      5\u001b[0m                      kernels, mf_gaussian_process, scale_kriging)\n\u001b[0;32m      6\u001b[0m \u001b[38;5;28;01mfrom\u001b[39;00m \u001b[38;5;21;01m.\u001b[39;00m\u001b[38;5;21;01moptimization\u001b[39;00m \u001b[38;5;28;01mimport\u001b[39;00m evolutionary_algorithms, mfbo\n",
      "File \u001b[1;32m~\\GitHub\\mfpml\\src\\mfpml\\design_of_experiment\\__init__.py:2\u001b[0m\n\u001b[1;32m----> 2\u001b[0m \u001b[38;5;28;01mfrom\u001b[39;00m \u001b[38;5;21;01m.\u001b[39;00m\u001b[38;5;21;01mmultifidelity_samplers\u001b[39;00m \u001b[38;5;28;01mimport\u001b[39;00m MFLatinHyperCube, MFSobolSequence\n\u001b[0;32m      3\u001b[0m \u001b[38;5;28;01mfrom\u001b[39;00m \u001b[38;5;21;01m.\u001b[39;00m\u001b[38;5;21;01msinglefideliy_samplers\u001b[39;00m \u001b[38;5;28;01mimport\u001b[39;00m (FixNumberSampler, LatinHyperCube,\n\u001b[0;32m      4\u001b[0m                                      RandomSampler, SobolSequence)\n",
      "File \u001b[1;32m~\\GitHub\\mfpml\\src\\mfpml\\design_of_experiment\\multifidelity_samplers.py:8\u001b[0m\n\u001b[0;32m      4\u001b[0m \u001b[38;5;28;01mimport\u001b[39;00m \u001b[38;5;21;01mnumpy\u001b[39;00m \u001b[38;5;28;01mas\u001b[39;00m \u001b[38;5;21;01mnp\u001b[39;00m\n\u001b[0;32m      5\u001b[0m \u001b[38;5;28;01mfrom\u001b[39;00m \u001b[38;5;21;01mscipy\u001b[39;00m\u001b[38;5;21;01m.\u001b[39;00m\u001b[38;5;21;01mstats\u001b[39;00m\u001b[38;5;21;01m.\u001b[39;00m\u001b[38;5;21;01mqmc\u001b[39;00m \u001b[38;5;28;01mimport\u001b[39;00m LatinHypercube, Sobol\n\u001b[1;32m----> 8\u001b[0m \u001b[38;5;28;01mclass\u001b[39;00m \u001b[38;5;21;01mMultiFidelitySampler\u001b[39;00m:\n\u001b[0;32m      9\u001b[0m \u001b[38;5;250m    \u001b[39m\u001b[38;5;124;03m\"\"\"\u001b[39;00m\n\u001b[0;32m     10\u001b[0m \u001b[38;5;124;03m    Base class for multi-fidelity sampling\u001b[39;00m\n\u001b[0;32m     11\u001b[0m \u001b[38;5;124;03m    \"\"\"\u001b[39;00m\n\u001b[0;32m     13\u001b[0m     \u001b[38;5;28;01mdef\u001b[39;00m \u001b[38;5;21m__init__\u001b[39m(\u001b[38;5;28mself\u001b[39m,\n\u001b[0;32m     14\u001b[0m                  design_space: List \u001b[38;5;241m|\u001b[39m np\u001b[38;5;241m.\u001b[39mndarray,\n\u001b[0;32m     15\u001b[0m                  num_fidelity: \u001b[38;5;28mint\u001b[39m \u001b[38;5;241m=\u001b[39m \u001b[38;5;28;01mNone\u001b[39;00m,\n\u001b[0;32m     16\u001b[0m                  nested: \u001b[38;5;28mbool\u001b[39m \u001b[38;5;241m=\u001b[39m \u001b[38;5;28;01mFalse\u001b[39;00m) \u001b[38;5;241m-\u001b[39m\u001b[38;5;241m>\u001b[39m \u001b[38;5;28;01mNone\u001b[39;00m:\n",
      "File \u001b[1;32m~\\GitHub\\mfpml\\src\\mfpml\\design_of_experiment\\multifidelity_samplers.py:14\u001b[0m, in \u001b[0;36mMultiFidelitySampler\u001b[1;34m()\u001b[0m\n\u001b[0;32m      8\u001b[0m \u001b[38;5;28;01mclass\u001b[39;00m \u001b[38;5;21;01mMultiFidelitySampler\u001b[39;00m:\n\u001b[0;32m      9\u001b[0m \u001b[38;5;250m    \u001b[39m\u001b[38;5;124;03m\"\"\"\u001b[39;00m\n\u001b[0;32m     10\u001b[0m \u001b[38;5;124;03m    Base class for multi-fidelity sampling\u001b[39;00m\n\u001b[0;32m     11\u001b[0m \u001b[38;5;124;03m    \"\"\"\u001b[39;00m\n\u001b[0;32m     13\u001b[0m     \u001b[38;5;28;01mdef\u001b[39;00m \u001b[38;5;21m__init__\u001b[39m(\u001b[38;5;28mself\u001b[39m,\n\u001b[1;32m---> 14\u001b[0m                  design_space: \u001b[43mList\u001b[49m\u001b[43m \u001b[49m\u001b[38;5;241;43m|\u001b[39;49m\u001b[43m \u001b[49m\u001b[43mnp\u001b[49m\u001b[38;5;241;43m.\u001b[39;49m\u001b[43mndarray\u001b[49m,\n\u001b[0;32m     15\u001b[0m                  num_fidelity: \u001b[38;5;28mint\u001b[39m \u001b[38;5;241m=\u001b[39m \u001b[38;5;28;01mNone\u001b[39;00m,\n\u001b[0;32m     16\u001b[0m                  nested: \u001b[38;5;28mbool\u001b[39m \u001b[38;5;241m=\u001b[39m \u001b[38;5;28;01mFalse\u001b[39;00m) \u001b[38;5;241m-\u001b[39m\u001b[38;5;241m>\u001b[39m \u001b[38;5;28;01mNone\u001b[39;00m:\n\u001b[0;32m     17\u001b[0m \u001b[38;5;250m        \u001b[39m\u001b[38;5;124;03m\"\"\"\u001b[39;00m\n\u001b[0;32m     18\u001b[0m \u001b[38;5;124;03m        Parameters\u001b[39;00m\n\u001b[0;32m     19\u001b[0m \u001b[38;5;124;03m        ----------\u001b[39;00m\n\u001b[0;32m     20\u001b[0m \u001b[38;5;124;03m        design_space: List\u001b[39;00m\n\u001b[0;32m     21\u001b[0m \u001b[38;5;124;03m            design space\u001b[39;00m\n\u001b[0;32m     22\u001b[0m \u001b[38;5;124;03m        \"\"\"\u001b[39;00m\n\u001b[0;32m     24\u001b[0m         \u001b[38;5;66;03m# A list is expected that contains the design space of each fidelity\u001b[39;00m\n",
      "\u001b[1;31mTypeError\u001b[0m: unsupported operand type(s) for |: '_GenericAlias' and 'type'"
     ]
    }
   ],
   "source": [
    "import numpy as np\n",
    "from mfpml.optimization.sf_uncons_bo import BayesUnconsOpt\n",
    "from mfpml.problems.singlefidelity_functions import Forrester\n",
    "from mfpml.optimization.sf_uncons_acqusitions import EI, LCB, PI\n",
    "from mfpml.models.gaussian_process import GaussianProcessRegression as Kriging\n",
    "from mfpml.design_of_experiment.singlefideliy_samplers import LatinHyperCube"
   ]
  },
  {
   "cell_type": "code",
   "execution_count": 2,
   "metadata": {},
   "outputs": [
    {
     "name": "stdout",
     "output_type": "stream",
     "text": [
      "-6.02074\n"
     ]
    }
   ],
   "source": [
    "func = Forrester()\n",
    "print(func.optimum)\n",
    "sampler = LatinHyperCube(design_space=func.input_domain)\n",
    "\n",
    "# get samples\n",
    "sample_x = sampler.get_samples(num_samples=3)\n",
    "sample_y = func.f(sample_x)"
   ]
  },
  {
   "cell_type": "code",
   "execution_count": 3,
   "metadata": {},
   "outputs": [
    {
     "name": "stdout",
     "output_type": "stream",
     "text": [
      "============= Best objective value at initial samples =========\n",
      " \n",
      "best_y: -3.418439\n",
      "best_x: [0.67458543]\n",
      "error: 0.4322228507806462\n",
      "min_index: 3\n",
      "============= Best objective value at iteration 1 =========\n",
      "best_y: -5.741401\n",
      "best_x: [0.77949142]\n",
      "error: 0.046396\n",
      "min_index: 3\n",
      "============= Best objective value at iteration 2 =========\n",
      "best_y: -5.741401\n",
      "best_x: [0.77949142]\n",
      "error: 0.046396\n",
      "min_index: 3\n",
      "============= Best objective value at iteration 3 =========\n",
      "best_y: -5.741401\n",
      "best_x: [0.77949142]\n",
      "error: 0.046396\n",
      "min_index: 6\n",
      "============= Best objective value at iteration 4 =========\n",
      "best_y: -5.931031\n",
      "best_x: [0.74402342]\n",
      "error: 0.014900\n",
      "min_index: 7\n",
      "============= Best objective value at iteration 5 =========\n",
      "best_y: -6.020722\n",
      "best_x: [0.7570668]\n",
      "error: 0.000003\n"
     ]
    },
    {
     "data": {
      "text/plain": [
       "(-6.020722385585827, array([0.7570668]))"
      ]
     },
     "execution_count": 3,
     "metadata": {},
     "output_type": "execute_result"
    }
   ],
   "source": [
    "# initialize the Bayesian optimization\n",
    "bayes_opt = BayesUnconsOpt(problem=func,\n",
    "                           acquisition=EI(),\n",
    "                           num_init=3,\n",
    "                           verbose=True,\n",
    "                           seed=4)\n",
    "bayes_opt.run_optimizer(max_iter=10, stopping_error=0.01)\n"
   ]
  },
  {
   "cell_type": "code",
   "execution_count": 7,
   "metadata": {},
   "outputs": [
    {
     "data": {
      "text/plain": [
       "array([[0.35231463],\n",
       "       [0.16289082],\n",
       "       [0.67458543],\n",
       "       [0.77949142],\n",
       "       [1.        ],\n",
       "       [0.        ],\n",
       "       [0.74402342],\n",
       "       [0.7570668 ]])"
      ]
     },
     "execution_count": 7,
     "metadata": {},
     "output_type": "execute_result"
    }
   ],
   "source": [
    "bayes_opt.sample"
   ]
  },
  {
   "cell_type": "code",
   "execution_count": 5,
   "metadata": {},
   "outputs": [
    {
     "data": {
      "text/plain": [
       "array([[ 2.92886692e-03],\n",
       "       [-9.30275592e-01],\n",
       "       [-3.41843859e+00],\n",
       "       [-5.74140071e+00],\n",
       "       [ 1.58297319e+01],\n",
       "       [ 3.02720998e+00],\n",
       "       [-5.93103148e+00],\n",
       "       [-6.02072239e+00]])"
      ]
     },
     "execution_count": 5,
     "metadata": {},
     "output_type": "execute_result"
    }
   ],
   "source": [
    "bayes_opt.response"
   ]
  },
  {
   "cell_type": "code",
   "execution_count": 6,
   "metadata": {},
   "outputs": [
    {
     "data": {
      "text/plain": [
       "[-3.418438593390932,\n",
       " -5.741400705806725,\n",
       " -5.741400705806725,\n",
       " -5.741400705806725,\n",
       " -5.931031483337122,\n",
       " -6.020722385585827]"
      ]
     },
     "execution_count": 6,
     "metadata": {},
     "output_type": "execute_result"
    }
   ],
   "source": [
    "bayes_opt.history_best"
   ]
  }
 ],
 "metadata": {
  "kernelspec": {
   "display_name": "mfpml_env",
   "language": "python",
   "name": "python3"
  },
  "language_info": {
   "codemirror_mode": {
    "name": "ipython",
    "version": 3
   },
   "file_extension": ".py",
   "mimetype": "text/x-python",
   "name": "python",
   "nbconvert_exporter": "python",
   "pygments_lexer": "ipython3",
   "version": "3.8.19"
  },
  "orig_nbformat": 4
 },
 "nbformat": 4,
 "nbformat_minor": 2
}
