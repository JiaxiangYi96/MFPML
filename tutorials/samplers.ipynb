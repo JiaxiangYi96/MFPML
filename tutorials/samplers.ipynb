{
 "cells": [
  {
   "attachments": {},
   "cell_type": "markdown",
   "id": "5ce5a27a",
   "metadata": {},
   "source": [
    "# single fidelity samplers\n"
   ]
  },
  {
   "cell_type": "code",
   "execution_count": 2,
   "id": "a5697d29",
   "metadata": {},
   "outputs": [],
   "source": [
    "# import the mfpml package\n",
    "import numpy as np\n",
    "from mfpml.design_of_experiment.sf_samplers import (\n",
    "    LatinHyperCube,\n",
    "    SobolSequence,\n",
    "    RandomSampler,\n",
    "    FixNumberSampler,\n",
    ")\n",
    "from mfpml.design_of_experiment.mf_samplers import (\n",
    "    MFLatinHyperCube,\n",
    "    MFSobolSequence,\n",
    ")"
   ]
  },
  {
   "cell_type": "code",
   "execution_count": 3,
   "id": "064469c8",
   "metadata": {},
   "outputs": [
    {
     "name": "stdout",
     "output_type": "stream",
     "text": [
      "[[0.61334558 0.85919208]\n",
      " [0.42347366 0.34349881]\n",
      " [0.25498285 0.93772795]\n",
      " [0.68814827 0.48470276]\n",
      " [0.98263801 0.73930111]\n",
      " [0.04252389 0.19276982]\n",
      " [0.1168614  0.75236035]\n",
      " [0.92392461 0.29884688]\n",
      " [0.65286282 0.55405558]\n",
      " [0.33714239 0.00703601]]\n"
     ]
    }
   ],
   "source": [
    "# test the sf Sobol-Sequence sampler\n",
    "design_space = np.array([[0, 1], [0, 1]])\n",
    "sampler = SobolSequence(design_space=design_space)\n",
    "samples = sampler.get_samples(num_samples=10, seed=1)\n",
    "print(samples)"
   ]
  },
  {
   "cell_type": "code",
   "execution_count": 4,
   "id": "852b031b",
   "metadata": {},
   "outputs": [
    {
     "name": "stdout",
     "output_type": "stream",
     "text": [
      "[[0.84881784 0.70495363]\n",
      " [0.98558404 0.50513506]\n",
      " [0.26881685 0.85766736]\n",
      " [0.41722974 0.45908009]\n",
      " [0.04504063 0.09724409]\n",
      " [0.62464869 0.64618567]\n",
      " [0.76702683 0.12115713]\n",
      " [0.56968052 0.25465021]\n",
      " [0.18659583 0.3596887 ]\n",
      " [0.37965448 0.97376867]]\n"
     ]
    }
   ],
   "source": [
    "# test the sf LatinHyperCube sampler\n",
    "sampler = LatinHyperCube(design_space=design_space)\n",
    "samples = sampler.get_samples(num_samples=10, seed=1)\n",
    "print(samples)"
   ]
  },
  {
   "cell_type": "code",
   "execution_count": 5,
   "id": "edc91d4b",
   "metadata": {},
   "outputs": [
    {
     "name": "stdout",
     "output_type": "stream",
     "text": [
      "[[0.18026969 0.01947524]\n",
      " [0.46321853 0.72493393]\n",
      " [0.4202036  0.4854271 ]\n",
      " [0.01278081 0.48737161]\n",
      " [0.94180665 0.85079509]\n",
      " [0.72996447 0.10873607]\n",
      " [0.89390417 0.85715425]\n",
      " [0.16508662 0.63233401]\n",
      " [0.02048361 0.11673727]\n",
      " [0.31636731 0.15791231]]\n"
     ]
    }
   ],
   "source": [
    "# test the sf Random sampler\n",
    "sampler = RandomSampler(design_space=design_space)\n",
    "samples = sampler.get_samples(num_samples=10, seed=11)\n",
    "print(samples)"
   ]
  },
  {
   "cell_type": "markdown",
   "id": "ce5f86b0",
   "metadata": {},
   "source": [
    "# Multi-fidelity samplers\n"
   ]
  },
  {
   "cell_type": "code",
   "execution_count": 6,
   "id": "91eef39e",
   "metadata": {},
   "outputs": [
    {
     "name": "stdout",
     "output_type": "stream",
     "text": [
      "[array([[0.64763958, 0.28450888],\n",
      "       [0.36683413, 0.68135563],\n",
      "       [0.48028161, 0.47841079],\n",
      "       [0.51099956, 0.61233338],\n",
      "       [0.92215368, 0.08658168],\n",
      "       [0.07887466, 0.93974256],\n",
      "       [0.01998916, 0.35459914],\n",
      "       [0.98921781, 0.73632443],\n",
      "       [0.57812486, 0.21319705],\n",
      "       [0.42133521, 0.81318406]]), array([[0.64763958, 0.28450888],\n",
      "       [0.36683413, 0.68135563],\n",
      "       [0.48028161, 0.47841079],\n",
      "       [0.51099956, 0.61233338],\n",
      "       [0.92215368, 0.08658168],\n",
      "       [0.07887466, 0.93974256],\n",
      "       [0.01998916, 0.35459914],\n",
      "       [0.98921781, 0.73632443],\n",
      "       [0.57812486, 0.21319705],\n",
      "       [0.42133521, 0.81318406],\n",
      "       [0.29992609, 0.01648945],\n",
      "       [0.70661298, 0.88477179],\n",
      "       [0.85214304, 0.40789327],\n",
      "       [0.13289509, 0.5579139 ],\n",
      "       [0.18038307, 0.39822532],\n",
      "       [0.83616588, 0.51286079],\n",
      "       [0.72186917, 0.03761379],\n",
      "       [0.25364737, 0.93398755],\n",
      "       [0.40607283, 0.23067839],\n",
      "       [0.6243745 , 0.86605055]])]\n"
     ]
    }
   ],
   "source": [
    "#\n",
    "mf_sampler = MFSobolSequence(design_space=design_space,\n",
    "                             num_fidelity=2,\n",
    "                             nested=False)\n",
    "samples = mf_sampler.get_samples(num_samples=[10, 20])\n",
    "\n",
    "print(samples)"
   ]
  },
  {
   "cell_type": "code",
   "execution_count": 7,
   "id": "4729d280",
   "metadata": {},
   "outputs": [
    {
     "name": "stdout",
     "output_type": "stream",
     "text": [
      "[array([[0.33634863, 0.66151883],\n",
      "       [0.49525546, 0.30447473],\n",
      "       [0.90939491, 0.45430304],\n",
      "       [0.07194665, 0.73638512],\n",
      "       [0.60192893, 0.91875682],\n",
      "       [0.26948018, 0.5431989 ],\n",
      "       [0.19793128, 0.84268995],\n",
      "       [0.55878087, 0.06547125],\n",
      "       [0.8269548 , 0.27182701],\n",
      "       [0.79776655, 0.17487075]]), array([[9.10584347e-01, 4.00165504e-04],\n",
      "       [1.52071585e-01, 4.06114726e-01],\n",
      "       [2.66937071e-01, 6.44535336e-01],\n",
      "       [5.02119839e-01, 8.78273269e-01],\n",
      "       [8.33313950e-01, 2.37428010e-01],\n",
      "       [8.05247788e-02, 7.34285587e-01],\n",
      "       [4.38314145e-01, 4.85537058e-01],\n",
      "       [8.86217469e-01, 5.84025470e-01],\n",
      "       [3.86654209e-01, 2.67416199e-01],\n",
      "       [4.37746268e-02, 1.05093740e-01],\n",
      "       [7.23630206e-01, 5.17477294e-01],\n",
      "       [5.71098997e-01, 9.10327013e-01],\n",
      "       [9.78328341e-01, 1.92889205e-01],\n",
      "       [1.04854690e-01, 3.47123776e-01],\n",
      "       [6.12496747e-01, 9.67531025e-01],\n",
      "       [3.41199641e-01, 9.61833407e-02],\n",
      "       [4.73294168e-01, 6.70323639e-01],\n",
      "       [7.70755383e-01, 7.85969655e-01],\n",
      "       [6.80558683e-01, 8.44078393e-01],\n",
      "       [2.37027127e-01, 3.60455016e-01]])]\n"
     ]
    }
   ],
   "source": [
    "# mf sobol sequence with non-nested sampling\n",
    "mf_sampler = MFLatinHyperCube(design_space=design_space,\n",
    "                              num_fidelity=2,\n",
    "                              nested=False)\n",
    "samples = mf_sampler.get_samples(num_samples=[10, 20])\n",
    "print(samples)"
   ]
  }
 ],
 "metadata": {
  "kernelspec": {
   "display_name": "f3dasm_env",
   "language": "python",
   "name": "python3"
  },
  "language_info": {
   "codemirror_mode": {
    "name": "ipython",
    "version": 3
   },
   "file_extension": ".py",
   "mimetype": "text/x-python",
   "name": "python",
   "nbconvert_exporter": "python",
   "pygments_lexer": "ipython3",
   "version": "3.10.13"
  },
  "vscode": {
   "interpreter": {
    "hash": "c39285bcfde79f26e0e78eaf231a537699253e80155c74e3f080c25e1bcc9abb"
   }
  }
 },
 "nbformat": 4,
 "nbformat_minor": 5
}
