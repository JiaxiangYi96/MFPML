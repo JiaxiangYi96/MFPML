{
 "cells": [
  {
   "cell_type": "code",
   "execution_count": 1,
   "metadata": {},
   "outputs": [],
   "source": [
    "import os\n",
    "import sys\n",
    "\n",
    "import matplotlib.pyplot as plt\n",
    "import numpy as np\n",
    "\n",
    "from mfpml.design_of_experiment.multifidelity_samplers import (\n",
    "    MFLatinHyperCube,\n",
    "    MFSobolSequence,\n",
    ")\n",
    "from mfpml.models.co_kriging import CoKriging\n",
    "from mfpml.models.hierarchical_kriging import HierarchicalKriging\n",
    "from mfpml.models.scale_kriging import ScaledKriging\n",
    "from mfpml.optimization.evolutionary_algorithms import PSO\n",
    "from mfpml.problems.multifidelity_functions import Forrester_1b, mf_Booth"
   ]
  },
  {
   "cell_type": "code",
   "execution_count": 2,
   "metadata": {},
   "outputs": [],
   "source": [
    "# define function\n",
    "func = mf_Booth()\n",
    "# define sampler\n",
    "sampler = MFSobolSequence(design_space=func._input_domain,\n",
    "                          num_fidelity=2)\n",
    "sample_x = sampler.get_samples(num_samples=[10, 100], seed=2)\n",
    "sample_y = func(sample_x)\n",
    "\n",
    "# add noise to the samples\n",
    "np.random.seed(2)\n",
    "sample_y[0] += np.random.normal(0, 0.3, sample_y[0].shape)\n",
    "sample_y[1] += np.random.normal(0, 0.3, sample_y[1].shape)\n",
    "# generate test samples\n",
    "# test_x = np.linspace(0, 1, 1000).reshape(-1, 1)\n",
    "# test_hy = func.hf(test_x)\n",
    "# test_ly = func.lf(test_x)"
   ]
  },
  {
   "cell_type": "markdown",
   "metadata": {},
   "source": [
    "# Co-Kriging model\n"
   ]
  },
  {
   "cell_type": "code",
   "execution_count": 3,
   "metadata": {},
   "outputs": [
    {
     "name": "stdout",
     "output_type": "stream",
     "text": [
      "1e-05\n"
     ]
    }
   ],
   "source": [
    "coK = CoKriging(design_space=func._input_domain,\n",
    "                optimizer_restart=10, noise_prior=None)\n",
    "coK.train(sample_x, sample_y)\n",
    "print(coK.noise)\n",
    "# cok_pre, cok_mse = coK.predict(test_x, return_std=True)\n",
    "# lf_pred, lf_std = coK.lfGP.predict(\n",
    "#     test_x, return_std=True)\n",
    "# lf_pred = lf_pred*coK.yh_std + coK.yh_mean\n",
    "# lf_std = lf_std*coK.yh_std\n",
    "# # print training time\n",
    "# print(coK.lf_training_time, coK.hf_training_time)\n",
    "\n",
    "# # print noise level\n",
    "# print(coK.noise)\n",
    "# print(coK.lfGP.noise)"
   ]
  },
  {
   "cell_type": "code",
   "execution_count": 4,
   "metadata": {},
   "outputs": [
    {
     "data": {
      "text/plain": [
       "23.135076761245728"
      ]
     },
     "execution_count": 4,
     "metadata": {},
     "output_type": "execute_result"
    }
   ],
   "source": [
    "coK.lf_training_time"
   ]
  },
  {
   "cell_type": "code",
   "execution_count": 5,
   "metadata": {},
   "outputs": [
    {
     "data": {
      "text/plain": [
       "array([-0.03056687,  0.71570702,  0.00142277])"
      ]
     },
     "execution_count": 5,
     "metadata": {},
     "output_type": "execute_result"
    }
   ],
   "source": [
    "coK.lfGP.opt_param"
   ]
  },
  {
   "cell_type": "code",
   "execution_count": 6,
   "metadata": {},
   "outputs": [
    {
     "data": {
      "text/plain": [
       "1e-05"
      ]
     },
     "execution_count": 6,
     "metadata": {},
     "output_type": "execute_result"
    }
   ],
   "source": [
    "coK.noise"
   ]
  },
  {
   "cell_type": "code",
   "execution_count": null,
   "metadata": {},
   "outputs": [],
   "source": [
    "fig, ax = plt.subplots(figsize=(5, 4))\n",
    "plt.plot(test_x, test_hy, \"r--\", label=\"True HF\")\n",
    "plt.plot(test_x, test_ly, \"g--\", label=\"True LF\")\n",
    "plt.plot(test_x, cok_pre, \"b-\", label=\"CoKriging\")\n",
    "plt.fill_between(\n",
    "    test_x[:, 0],\n",
    "    cok_pre[:, 0] - 1.96 * cok_mse[:, 0],\n",
    "    cok_pre[:, 0] + 1.96 * cok_mse[:, 0],\n",
    "    alpha=0.4,\n",
    "    color=\"b\",\n",
    "    label=\"95% CI\",\n",
    ")\n",
    "plt.plot(test_x, lf_pred, \"k-\", label=\"LF model\")\n",
    "plt.fill_between(\n",
    "    test_x[:, 0],\n",
    "    lf_pred[:, 0] - 1.96 * lf_std[:, 0],\n",
    "    lf_pred[:, 0] + 1.96 * lf_std[:, 0],\n",
    "    alpha=0.4,\n",
    "    color=\"y\",\n",
    "    label=\"95% CI lf\",\n",
    ")\n",
    "plt.plot(sample_x[0], sample_y[0], \"kx\", label=\"HF samples\")\n",
    "plt.plot(sample_x[1], sample_y[1], \"k+\", label=\"LF samples\")\n",
    "plt.legend(loc=\"best\")\n",
    "plt.grid()\n",
    "plt.show()"
   ]
  },
  {
   "cell_type": "markdown",
   "metadata": {},
   "source": [
    "# Scaled Kriging without optimizing rho\n"
   ]
  },
  {
   "cell_type": "code",
   "execution_count": null,
   "metadata": {},
   "outputs": [],
   "source": [
    "ScK = ScaledKriging(design_space=func._input_domain,\n",
    "                    optimizer_restart=20, noise_prior=None)\n",
    "ScK.train(sample_x, sample_y)\n",
    "sck_pre, sck_std = ScK.predict(test_x, return_std=True)\n",
    "lf_pred, lf_std = ScK.lfGP.predict(test_x, return_std=True)"
   ]
  },
  {
   "cell_type": "code",
   "execution_count": null,
   "metadata": {},
   "outputs": [],
   "source": [
    "fig, ax = plt.subplots(figsize=(5, 4))\n",
    "plt.plot(test_x, test_hy, \"r--\", label=\"True HF\")\n",
    "plt.plot(test_x, test_ly, \"g--\", label=\"True LF\")\n",
    "plt.plot(test_x, sck_pre, \"b-\", label=\"CoKriging\")\n",
    "plt.fill_between(\n",
    "    test_x[:, 0],\n",
    "    sck_pre[:, 0] - 1.96 * sck_std[:, 0],\n",
    "    sck_pre[:, 0] + 1.96 * sck_std[:, 0],\n",
    "    alpha=0.4,\n",
    "    color=\"b\",\n",
    "    label=\"95% CI\",\n",
    ")\n",
    "plt.plot(test_x, lf_pred, \"k-\", label=\"LF model\")\n",
    "plt.fill_between(\n",
    "    test_x[:, 0],\n",
    "    lf_pred[:, 0] - 1.96 * lf_std[:, 0],\n",
    "    lf_pred[:, 0] + 1.96 * lf_std[:, 0],\n",
    "    alpha=0.4,\n",
    "    color=\"y\",\n",
    "    label=\"95% CI lf\",\n",
    ")\n",
    "plt.plot(sample_x[0], sample_y[0], \"kx\", label=\"HF samples\")\n",
    "plt.plot(sample_x[1], sample_y[1], \"k+\", label=\"LF samples\")\n",
    "plt.legend(loc=\"best\")\n",
    "plt.grid()\n",
    "plt.show()"
   ]
  },
  {
   "cell_type": "markdown",
   "metadata": {},
   "source": [
    "# Scaled Kriging with optimizing rho\n"
   ]
  },
  {
   "cell_type": "code",
   "execution_count": null,
   "metadata": {},
   "outputs": [],
   "source": [
    "pso_opt = PSO(num_gen=200, num_pop=20)\n",
    "ScKrho = ScaledKriging(\n",
    "    design_space=func._input_domain,\n",
    "    rho_optimizer=True,\n",
    "    rho_method=\"error\",\n",
    "    rho_bound=[0.0, 10.0],\n",
    "    noise_prior=None,\n",
    ")\n",
    "ScKrho.train(sample_x, sample_y)\n",
    "ScKrho_pred, ScKrho_std = ScKrho.predict(test_x, return_std=True)\n",
    "lf_pred, lf_std = ScKrho.lfGP.predict(test_x, return_std=True)"
   ]
  },
  {
   "cell_type": "code",
   "execution_count": null,
   "metadata": {},
   "outputs": [],
   "source": [
    "fig, ax = plt.subplots(figsize=(5, 4))\n",
    "plt.plot(test_x, test_hy, \"r--\", label=\"True HF\")\n",
    "plt.plot(test_x, test_ly, \"g--\", label=\"True LF\")\n",
    "plt.plot(test_x, ScKrho_pred, \"b-\", label=\"CoKriging\")\n",
    "plt.fill_between(\n",
    "    test_x[:, 0],\n",
    "    ScKrho_pred[:, 0] - 1.96 * ScKrho_std[:, 0],\n",
    "    ScKrho_pred[:, 0] + 1.96 * ScKrho_std[:, 0],\n",
    "    alpha=0.4,\n",
    "    color=\"b\",\n",
    "    label=\"95% CI\",\n",
    ")\n",
    "plt.plot(test_x, lf_pred, \"k-\", label=\"LF model\")\n",
    "plt.fill_between(\n",
    "    test_x[:, 0],\n",
    "    lf_pred[:, 0] - 1.96 * lf_std[:, 0],\n",
    "    lf_pred[:, 0] + 1.96 * lf_std[:, 0],\n",
    "    alpha=0.4,\n",
    "    color=\"y\",\n",
    "    label=\"95% CI lf\",\n",
    ")\n",
    "plt.plot(sample_x[0], sample_y[0], \"kx\", label=\"HF samples\")\n",
    "plt.plot(sample_x[1], sample_y[1], \"k+\", label=\"LF samples\")\n",
    "plt.legend(loc=\"best\")\n",
    "plt.grid()\n",
    "plt.show()"
   ]
  },
  {
   "cell_type": "markdown",
   "metadata": {},
   "source": [
    "# Hierarchical Kriging\n"
   ]
  },
  {
   "cell_type": "code",
   "execution_count": null,
   "metadata": {},
   "outputs": [],
   "source": [
    "\n",
    "HK = HierarchicalKriging(design_space=func._input_domain,\n",
    "                         noise_prior=None, optimizer_restart=3)\n",
    "print(HK.noise)\n",
    "HK.train(sample_x, sample_y)\n",
    "print(HK.noise)\n",
    "hk_pre, hk_std = HK.predict(test_x, return_std=True)\n",
    "lf_pred, lf_std = HK.lfGP.predict(test_x, return_std=True)\n",
    "\n",
    "print(HK.noise, HK.lfGP.noise)"
   ]
  },
  {
   "cell_type": "code",
   "execution_count": null,
   "metadata": {},
   "outputs": [],
   "source": [
    "HK._num_xh"
   ]
  },
  {
   "cell_type": "code",
   "execution_count": null,
   "metadata": {},
   "outputs": [],
   "source": [
    "fig, ax = plt.subplots(figsize=(5, 4))\n",
    "plt.plot(test_x, test_hy, \"r--\", label=\"True HF\")\n",
    "plt.plot(test_x, hk_pre, \"g--\", label=\"HK\")\n",
    "plt.fill_between(\n",
    "    test_x[:, 0],\n",
    "    hk_pre[:, 0] - 1.96 * hk_std[:, 0],\n",
    "    hk_pre[:, 0] + 1.96 * hk_std[:, 0],\n",
    "    alpha=0.4,\n",
    "    color=\"g\",\n",
    "    label=\"95% CI\",\n",
    ")\n",
    "plt.plot(sample_x[0], sample_y[0], \"kx\", label=\"HF samples\")\n",
    "plt.plot(sample_x[1], sample_y[1], \"k+\", label=\"LF samples\")\n",
    "plt.plot(test_x, lf_pred, \"k-\", label=\"LF model\")\n",
    "plt.legend(loc=\"best\")\n",
    "plt.grid()\n",
    "plt.show()"
   ]
  },
  {
   "cell_type": "code",
   "execution_count": null,
   "metadata": {},
   "outputs": [],
   "source": [
    "# print noise level for all approaches\n",
    "print(coK.noise)\n",
    "print(ScK.disc_model.noise)\n",
    "print(ScKrho.disc_model.noise)\n",
    "print(HK.noise)"
   ]
  },
  {
   "cell_type": "code",
   "execution_count": null,
   "metadata": {},
   "outputs": [],
   "source": [
    "# print noise for lf\n",
    "print(coK.lfGP.noise*coK.yh_std)\n",
    "print(ScK.lfGP.noise)\n",
    "print(ScKrho.lfGP.noise)\n",
    "print(HK.lfGP.noise)"
   ]
  }
 ],
 "metadata": {
  "kernelspec": {
   "display_name": "mfpml_env",
   "language": "python",
   "name": "python3"
  },
  "language_info": {
   "codemirror_mode": {
    "name": "ipython",
    "version": 3
   },
   "file_extension": ".py",
   "mimetype": "text/x-python",
   "name": "python",
   "nbconvert_exporter": "python",
   "pygments_lexer": "ipython3",
   "version": "3.10.13"
  },
  "orig_nbformat": 4
 },
 "nbformat": 4,
 "nbformat_minor": 2
}
