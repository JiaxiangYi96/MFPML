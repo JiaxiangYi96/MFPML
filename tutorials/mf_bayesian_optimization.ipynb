{
 "cells": [
  {
   "cell_type": "code",
   "execution_count": 1,
   "metadata": {},
   "outputs": [],
   "source": [
    "\n",
    "import numpy as np\n",
    "\n",
    "from mfpml.design_of_experiment.multifidelity_samplers import MFLatinHyperCube\n",
    "from mfpml.models.co_kriging import CoKriging\n",
    "from mfpml.models.hierarchical_kriging import HierarchicalKriging\n",
    "from mfpml.models.mf_scale_kriging import ScaledKriging\n",
    "from mfpml.optimization.mf_acqusitions import (augmentedEI, extendedPI, vfei,\n",
    "                                               vflcb)\n",
    "from mfpml.optimization.mfbo import mfBayesOpt\n",
    "from mfpml.problems.multifidelity_functions import Forrester_1a, mf_Hartman3"
   ]
  },
  {
   "cell_type": "code",
   "execution_count": 2,
   "metadata": {},
   "outputs": [
    {
     "name": "stdout",
     "output_type": "stream",
     "text": [
      "-6.02074\n"
     ]
    }
   ],
   "source": [
    "# define problem\n",
    "func = Forrester_1a()\n",
    "print(func.optimum)\n",
    "\n",
    "# define sampler\n",
    "sampler = MFLatinHyperCube(design_space=func._design_space, seed=7)\n",
    "\n",
    "# get initial samples\n",
    "sample_x = sampler.get_samples(\n",
    "    num_hf_samples=3 * func.num_dim, num_lf_samples=6 * func.num_dim\n",
    ")\n",
    "sample_y = func(sample_x)"
   ]
  },
  {
   "cell_type": "code",
   "execution_count": 5,
   "metadata": {},
   "outputs": [
    {
     "name": "stdout",
     "output_type": "stream",
     "text": [
      "===========================================\n",
      "iter: 0, eval HF: 3, eval LF: 6, found optimum: 0.78725, \n",
      "===========================================\n",
      "iter: 1, eval HF: 3, eval LF: 7, found optimum: 0.78725, \n",
      "===========================================\n",
      "iter: 2, eval HF: 3, eval LF: 8, found optimum: 0.78725, \n",
      "===========================================\n",
      "iter: 3, eval HF: 4, eval LF: 8, found optimum: -6.01179, \n",
      "===========================================\n",
      "iter: 4, eval HF: 5, eval LF: 8, found optimum: -6.01179, \n",
      "===========================================\n",
      "iter: 5, eval HF: 5, eval LF: 9, found optimum: -6.01179, \n",
      "===========================================\n",
      "iter: 6, eval HF: 6, eval LF: 9, found optimum: -6.01875, \n",
      "===========================================\n",
      "iter: 7, eval HF: 7, eval LF: 9, found optimum: -6.01936, \n",
      "===========================================\n",
      "iter: 8, eval HF: 8, eval LF: 9, found optimum: -6.01936, \n",
      "===========================================\n",
      "iter: 9, eval HF: 9, eval LF: 9, found optimum: -6.01936, \n",
      "===========================================\n",
      "iter: 10, eval HF: 10, eval LF: 9, found optimum: -6.01936, \n"
     ]
    },
    {
     "data": {
      "image/png": "[encoded data removed]",
      "text/plain": [
       "<Figure size 500x400 with 1 Axes>"
      ]
     },
     "metadata": {},
     "output_type": "display_data"
    }
   ],
   "source": [
    "mf_model = ScaledKriging(design_space=func._input_domain)\n",
    "acf1 = vfei()\n",
    "acf2 = augmentedEI()\n",
    "acf3 = vflcb()\n",
    "acf4 = extendedPI()\n",
    "\n",
    "opti = mfBayesOpt(problem=func)\n",
    "\n",
    "opti.run_optimizer(\n",
    "    mf_surrogate=mf_model,\n",
    "    acquisition=acf2,\n",
    "    max_iter=10,\n",
    "    init_x=sample_x,\n",
    "    init_y=sample_y,\n",
    ")\n",
    "opti.historical_plot(figsize=(5, 4))"
   ]
  }
 ],
 "metadata": {
  "kernelspec": {
   "display_name": "mfpml_env",
   "language": "python",
   "name": "python3"
  },
  "language_info": {
   "codemirror_mode": {
    "name": "ipython",
    "version": 3
   },
   "file_extension": ".py",
   "mimetype": "text/x-python",
   "name": "python",
   "nbconvert_exporter": "python",
   "pygments_lexer": "ipython3",
   "version": "3.10.10"
  },
  "orig_nbformat": 4
 },
 "nbformat": 4,
 "nbformat_minor": 2
}
