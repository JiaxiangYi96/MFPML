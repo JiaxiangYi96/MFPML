{
 "cells": [
  {
   "cell_type": "code",
   "execution_count": 2,
   "metadata": {},
   "outputs": [],
   "source": [
    "\n",
    "import numpy as np\n",
    "\n",
    "from mfpml.design_of_experiment.multifidelity_samplers import MFLatinHyperCube\n",
    "from mfpml.models.co_kriging import CoKriging\n",
    "from mfpml.models.hierarchical_kriging import HierarchicalKriging\n",
    "from mfpml.models.mf_scale_kriging import ScaledKriging\n",
    "from mfpml.optimization.mf_acqusitions import (augmentedEI, extendedPI, vfei,\n",
    "                                               vflcb)\n",
    "from mfpml.optimization.mfbo import mfBayesOpt\n",
    "from mfpml.problems.multifidelity_functions import Forrester_1a, mf_Hartman3"
   ]
  },
  {
   "cell_type": "code",
   "execution_count": 3,
   "metadata": {},
   "outputs": [
    {
     "name": "stdout",
     "output_type": "stream",
     "text": [
      "-6.02074\n"
     ]
    }
   ],
   "source": [
    "# define problem\n",
    "func = Forrester_1a()\n",
    "print(func.optimum)\n",
    "\n",
    "# define sampler\n",
    "sampler = MFLatinHyperCube(design_space=func._design_space, seed=7)\n",
    "\n",
    "# get initial samples\n",
    "sample_x = sampler.get_samples(\n",
    "    num_hf_samples=3 * func.num_dim, num_lf_samples=6 * func.num_dim\n",
    ")\n",
    "sample_y = func(sample_x)"
   ]
  },
  {
   "cell_type": "code",
   "execution_count": 7,
   "metadata": {},
   "outputs": [
    {
     "name": "stdout",
     "output_type": "stream",
     "text": [
      "===========================================\n",
      "iter: 0, eval HF: 3, eval LF: 6, found optimum: 0.78725, \n"
     ]
    },
    {
     "ename": "TypeError",
     "evalue": "extendedPI.query() missing 1 required positional argument: 'self'",
     "output_type": "error",
     "traceback": [
      "\u001b[0;31m---------------------------------------------------------------------------\u001b[0m",
      "\u001b[0;31mTypeError\u001b[0m                                 Traceback (most recent call last)",
      "Cell \u001b[0;32mIn[7], line 9\u001b[0m\n\u001b[1;32m      5\u001b[0m acf4 \u001b[39m=\u001b[39m extendedPI()\n\u001b[1;32m      7\u001b[0m opti \u001b[39m=\u001b[39m mfBayesOpt(problem\u001b[39m=\u001b[39mfunc)\n\u001b[0;32m----> 9\u001b[0m opti\u001b[39m.\u001b[39;49mrun_optimizer(\n\u001b[1;32m     10\u001b[0m     mf_surrogate\u001b[39m=\u001b[39;49mmf_model,\n\u001b[1;32m     11\u001b[0m     acquisition\u001b[39m=\u001b[39;49mextendedPI,\n\u001b[1;32m     12\u001b[0m     max_iter\u001b[39m=\u001b[39;49m\u001b[39m10\u001b[39;49m,\n\u001b[1;32m     13\u001b[0m     init_x\u001b[39m=\u001b[39;49msample_x,\n\u001b[1;32m     14\u001b[0m     init_y\u001b[39m=\u001b[39;49msample_y,\n\u001b[1;32m     15\u001b[0m )\n\u001b[1;32m     16\u001b[0m opti\u001b[39m.\u001b[39mhistorical_plot(figsize\u001b[39m=\u001b[39m(\u001b[39m5\u001b[39m, \u001b[39m4\u001b[39m))\n",
      "File \u001b[0;32m~/Documents/mfpml/src/mfpml/optimization/mfbo.py:86\u001b[0m, in \u001b[0;36mmfBayesOpt.run_optimizer\u001b[0;34m(self, init_x, init_y, mf_surrogate, acquisition, max_iter, max_cost, print_info, resume, **kwargs)\u001b[0m\n\u001b[1;32m     83\u001b[0m \u001b[39miter\u001b[39m \u001b[39m=\u001b[39m \u001b[39m0\u001b[39m\n\u001b[1;32m     84\u001b[0m \u001b[39mwhile\u001b[39;00m \u001b[39miter\u001b[39m \u001b[39m<\u001b[39m max_iter \u001b[39mand\u001b[39;00m \u001b[39mself\u001b[39m\u001b[39m.\u001b[39mparams[\u001b[39m'\u001b[39m\u001b[39mcost\u001b[39m\u001b[39m'\u001b[39m] \u001b[39m<\u001b[39m max_cost:\n\u001b[1;32m     85\u001b[0m     \u001b[39m# get the next point to evaluate\u001b[39;00m\n\u001b[0;32m---> 86\u001b[0m     update_x \u001b[39m=\u001b[39m acquisition\u001b[39m.\u001b[39;49mquery(\n\u001b[1;32m     87\u001b[0m         mf_surrogate\u001b[39m=\u001b[39;49mmf_surrogate, params\u001b[39m=\u001b[39;49m\u001b[39mself\u001b[39;49m\u001b[39m.\u001b[39;49mparams)\n\u001b[1;32m     88\u001b[0m     update_y \u001b[39m=\u001b[39m \u001b[39mself\u001b[39m\u001b[39m.\u001b[39mfunc(update_x)\n\u001b[1;32m     89\u001b[0m     \u001b[39m# update mf bo info\u001b[39;00m\n",
      "\u001b[0;31mTypeError\u001b[0m: extendedPI.query() missing 1 required positional argument: 'self'"
     ]
    }
   ],
   "source": [
    "mf_model = ScaledKriging(design_space=func._input_domain)\n",
    "acf1 = vfei()\n",
    "acf2 = augmentedEI()\n",
    "acf3 = vflcb()\n",
    "acf4 = extendedPI()\n",
    "\n",
    "opti = mfBayesOpt(problem=func)\n",
    "\n",
    "opti.run_optimizer(\n",
    "    mf_surrogate=mf_model,\n",
    "    acquisition=extendedPI,\n",
    "    max_iter=10,\n",
    "    init_x=sample_x,\n",
    "    init_y=sample_y,\n",
    ")\n",
    "opti.historical_plot(figsize=(5, 4))"
   ]
  }
 ],
 "metadata": {
  "kernelspec": {
   "display_name": "mfpml_env",
   "language": "python",
   "name": "python3"
  },
  "language_info": {
   "codemirror_mode": {
    "name": "ipython",
    "version": 3
   },
   "file_extension": ".py",
   "mimetype": "text/x-python",
   "name": "python",
   "nbconvert_exporter": "python",
   "pygments_lexer": "ipython3",
   "version": "3.10.10"
  },
  "orig_nbformat": 4
 },
 "nbformat": 4,
 "nbformat_minor": 2
}
