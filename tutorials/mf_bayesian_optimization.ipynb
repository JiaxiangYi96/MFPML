{
 "cells": [
  {
   "cell_type": "code",
   "execution_count": 1,
   "metadata": {},
   "outputs": [],
   "source": [
    "from mfpml.problems.mf_functions import Forrester_1a\n",
    "from mfpml.optimization.mf_uncons_bo import mfUnConsBayesOpt\n",
    "from mfpml.optimization.mf_acqusitions import  VFEI\n",
    "\n"
   ]
  },
  {
   "cell_type": "code",
   "execution_count": 2,
   "metadata": {},
   "outputs": [
    {
     "name": "stdout",
     "output_type": "stream",
     "text": [
      "======= Best objective value  ==========\n",
      "Best objective value: -1.7730\n",
      "Best scheme: [0.64079812]\n",
      "Error: 0.7055208552646877\n",
      "update_x:  [[0.75725241]]\n",
      "update_y:  [[-6.02074005]]\n",
      "fidelity:  0\n",
      "=========== Iteration 1 ===========\n",
      "Best objective value: -6.020740048648514\n",
      "Best scheme: [[0.75725241]]\n",
      "Fidelity query order:  0\n",
      "Stopping error: 0.000000\n"
     ]
    }
   ],
   "source": [
    "\n",
    "# define problem\n",
    "problem = Forrester_1a()\n",
    "# define the optimizer\n",
    "optimizer = mfUnConsBayesOpt(problem=problem,\n",
    "                            acquisition=VFEI(),\n",
    "                            num_init=[5, 20],\n",
    "                            )\n",
    "# execute the optimizer\n",
    "optimizer.run_optimizer(max_iter=20, stopping_error=0.01, cost_ratio=5.0)"
   ]
  }
 ],
 "metadata": {
  "kernelspec": {
   "display_name": "bayes_env",
   "language": "python",
   "name": "python3"
  },
  "language_info": {
   "codemirror_mode": {
    "name": "ipython",
    "version": 3
   },
   "file_extension": ".py",
   "mimetype": "text/x-python",
   "name": "python",
   "nbconvert_exporter": "python",
   "pygments_lexer": "ipython3",
   "version": "3.10.15"
  },
  "orig_nbformat": 4
 },
 "nbformat": 4,
 "nbformat_minor": 2
}
