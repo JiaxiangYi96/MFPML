{
 "cells": [
  {
   "cell_type": "code",
   "execution_count": 1,
   "metadata": {},
   "outputs": [],
   "source": [
    "\n",
    "import numpy as np\n",
    "\n",
    "from mfpml.design_of_experiment.mf_samplers import MFLatinHyperCube\n",
    "from mfpml.models.co_kriging import CoKriging\n",
    "from mfpml.models.hierarchical_kriging import HierarchicalKriging\n",
    "from mfpml.models.scale_kriging import ScaledKriging\n",
    "from mfpml.optimization.mf_acqusitions import (augmentedEI, extendedPI, vfei,\n",
    "                                               vflcb)\n",
    "from mfpml.optimization.mfbo import mfBayesOpt\n",
    "from mfpml.problems.multifidelity_functions import Forrester_1a, mf_Hartman3"
   ]
  },
  {
   "cell_type": "code",
   "execution_count": 3,
   "metadata": {},
   "outputs": [
    {
     "name": "stdout",
     "output_type": "stream",
     "text": [
      "-6.02074\n",
      "[array([[0.33634863],\n",
      "       [0.56151883],\n",
      "       [0.79525546],\n",
      "       [0.20447473],\n",
      "       [0.80939491],\n",
      "       [0.95430304],\n",
      "       [0.67194665],\n",
      "       [0.43638512],\n",
      "       [0.00192893],\n",
      "       [0.11875682]]), array([[0.81058435],\n",
      "       [0.30040017],\n",
      "       [0.00207159],\n",
      "       [0.40611473],\n",
      "       [0.96693707],\n",
      "       [0.59453534],\n",
      "       [0.15211984],\n",
      "       [0.77827327],\n",
      "       [0.13331395],\n",
      "       [0.38742801],\n",
      "       [0.63052478],\n",
      "       [0.88428559],\n",
      "       [0.48831414],\n",
      "       [0.93553706],\n",
      "       [0.08621747],\n",
      "       [0.68402547],\n",
      "       [0.23665421],\n",
      "       [0.2674162 ],\n",
      "       [0.54377463],\n",
      "       [0.70509374]])]\n",
      "[array([[ 1.18406887e-05],\n",
      "       [ 7.35761541e-01],\n",
      "       [-5.18015056e+00],\n",
      "       [-5.97584171e-01],\n",
      "       [-4.40584105e+00],\n",
      "       [ 1.27732002e+01],\n",
      "       [-3.28843729e+00],\n",
      "       [ 3.61159338e-01],\n",
      "       [ 2.93165784e+00],\n",
      "       [-8.89821930e-01]]), array([[ -9.32893217],\n",
      "       [ -5.01503211],\n",
      "       [ -2.07540735],\n",
      "       [ -4.85383059],\n",
      "       [  9.00040686],\n",
      "       [ -4.98239292],\n",
      "       [ -5.97317469],\n",
      "       [-10.77182181],\n",
      "       [ -5.97260847],\n",
      "       [ -4.93631946],\n",
      "       [ -6.31016758],\n",
      "       [ -1.47712397],\n",
      "       [ -4.17116667],\n",
      "       [  5.56801538],\n",
      "       [ -5.38535916],\n",
      "       [ -8.87676109],\n",
      "       [ -5.30851215],\n",
      "       [ -5.11122587],\n",
      "       [ -4.07847863],\n",
      "       [ -9.8191755 ]])]\n"
     ]
    }
   ],
   "source": [
    "# define problem\n",
    "func = Forrester_1a()\n",
    "print(func.optimum)\n",
    "\n",
    "# define sampler\n",
    "sampler = MFLatinHyperCube(\n",
    "    design_space=func.input_domain, num_fidelity=2, nested=False)\n",
    "\n",
    "# get initial samples\n",
    "sample_x = sampler.get_samples(num_samples=[10, 20])\n",
    "sample_y = func(sample_x)\n",
    "print(sample_x)\n",
    "print(sample_y)"
   ]
  },
  {
   "cell_type": "code",
   "execution_count": 4,
   "metadata": {},
   "outputs": [
    {
     "ename": "TypeError",
     "evalue": "list indices must be integers or slices, not str",
     "output_type": "error",
     "traceback": [
      "\u001b[0;31m---------------------------------------------------------------------------\u001b[0m",
      "\u001b[0;31mTypeError\u001b[0m                                 Traceback (most recent call last)",
      "Cell \u001b[0;32mIn[4], line 9\u001b[0m\n\u001b[1;32m      5\u001b[0m acf4 \u001b[38;5;241m=\u001b[39m extendedPI()\n\u001b[1;32m      7\u001b[0m opti \u001b[38;5;241m=\u001b[39m mfBayesOpt(problem\u001b[38;5;241m=\u001b[39mfunc)\n\u001b[0;32m----> 9\u001b[0m \u001b[43mopti\u001b[49m\u001b[38;5;241;43m.\u001b[39;49m\u001b[43mrun_optimizer\u001b[49m\u001b[43m(\u001b[49m\n\u001b[1;32m     10\u001b[0m \u001b[43m    \u001b[49m\u001b[43mmf_surrogate\u001b[49m\u001b[38;5;241;43m=\u001b[39;49m\u001b[43mmf_model\u001b[49m\u001b[43m,\u001b[49m\n\u001b[1;32m     11\u001b[0m \u001b[43m    \u001b[49m\u001b[43macquisition\u001b[49m\u001b[38;5;241;43m=\u001b[39;49m\u001b[43macf2\u001b[49m\u001b[43m,\u001b[49m\n\u001b[1;32m     12\u001b[0m \u001b[43m    \u001b[49m\u001b[43mmax_iter\u001b[49m\u001b[38;5;241;43m=\u001b[39;49m\u001b[38;5;241;43m10\u001b[39;49m\u001b[43m,\u001b[49m\n\u001b[1;32m     13\u001b[0m \u001b[43m    \u001b[49m\u001b[43minit_x\u001b[49m\u001b[38;5;241;43m=\u001b[39;49m\u001b[43msample_x\u001b[49m\u001b[43m,\u001b[49m\n\u001b[1;32m     14\u001b[0m \u001b[43m    \u001b[49m\u001b[43minit_y\u001b[49m\u001b[38;5;241;43m=\u001b[39;49m\u001b[43msample_y\u001b[49m\u001b[43m,\u001b[49m\n\u001b[1;32m     15\u001b[0m \u001b[43m)\u001b[49m\n\u001b[1;32m     16\u001b[0m opti\u001b[38;5;241m.\u001b[39mhistorical_plot(figsize\u001b[38;5;241m=\u001b[39m(\u001b[38;5;241m5\u001b[39m, \u001b[38;5;241m4\u001b[39m))\n",
      "File \u001b[0;32m~/Documents/mfpml/src/mfpml/optimization/mfbo.py:81\u001b[0m, in \u001b[0;36mmfBayesOpt.run_optimizer\u001b[0;34m(self, init_x, init_y, mf_surrogate, acquisition, max_iter, max_cost, print_info, resume, **kwargs)\u001b[0m\n\u001b[1;32m     79\u001b[0m \u001b[38;5;28;01mif\u001b[39;00m \u001b[38;5;129;01mnot\u001b[39;00m resume:\n\u001b[1;32m     80\u001b[0m     \u001b[38;5;28mself\u001b[39m\u001b[38;5;241m.\u001b[39m_initialization()\n\u001b[0;32m---> 81\u001b[0m     \u001b[38;5;28;43mself\u001b[39;49m\u001b[38;5;241;43m.\u001b[39;49m\u001b[43m_first_run\u001b[49m\u001b[43m(\u001b[49m\u001b[43mmf_surrogate\u001b[49m\u001b[38;5;241;43m=\u001b[39;49m\u001b[43mmf_surrogate\u001b[49m\u001b[43m,\u001b[49m\n\u001b[1;32m     82\u001b[0m \u001b[43m                    \u001b[49m\u001b[43minit_x\u001b[49m\u001b[38;5;241;43m=\u001b[39;49m\u001b[43minit_x\u001b[49m\u001b[43m,\u001b[49m\u001b[43m \u001b[49m\u001b[43minit_y\u001b[49m\u001b[38;5;241;43m=\u001b[39;49m\u001b[43minit_y\u001b[49m\u001b[43m)\u001b[49m\n\u001b[1;32m     83\u001b[0m \u001b[38;5;28miter\u001b[39m \u001b[38;5;241m=\u001b[39m \u001b[38;5;241m0\u001b[39m\n\u001b[1;32m     84\u001b[0m \u001b[38;5;28;01mwhile\u001b[39;00m \u001b[38;5;28miter\u001b[39m \u001b[38;5;241m<\u001b[39m max_iter \u001b[38;5;129;01mand\u001b[39;00m \u001b[38;5;28mself\u001b[39m\u001b[38;5;241m.\u001b[39mparams[\u001b[38;5;124m'\u001b[39m\u001b[38;5;124mcost\u001b[39m\u001b[38;5;124m'\u001b[39m] \u001b[38;5;241m<\u001b[39m max_cost:\n\u001b[1;32m     85\u001b[0m     \u001b[38;5;66;03m# get the next point to evaluate\u001b[39;00m\n",
      "File \u001b[0;32m~/Documents/mfpml/src/mfpml/optimization/mfbo.py:138\u001b[0m, in \u001b[0;36mmfBayesOpt._first_run\u001b[0;34m(self, mf_surrogate, init_x, init_y, print_info)\u001b[0m\n\u001b[1;32m    124\u001b[0m \u001b[38;5;250m\u001b[39m\u001b[38;5;124;03m\"\"\"Initialize parameters in the Bayesian optimization\u001b[39;00m\n\u001b[1;32m    125\u001b[0m \n\u001b[1;32m    126\u001b[0m \u001b[38;5;124;03mParameters\u001b[39;00m\n\u001b[0;32m   (...)\u001b[0m\n\u001b[1;32m    135\u001b[0m \u001b[38;5;124;03m    whether to print information, by default True\u001b[39;00m\n\u001b[1;32m    136\u001b[0m \u001b[38;5;124;03m\"\"\"\u001b[39;00m\n\u001b[1;32m    137\u001b[0m mf_surrogate\u001b[38;5;241m.\u001b[39mtrain(init_x, init_y)\n\u001b[0;32m--> 138\u001b[0m \u001b[38;5;28mself\u001b[39m\u001b[38;5;241m.\u001b[39mparams[\u001b[38;5;124m'\u001b[39m\u001b[38;5;124mn_hf\u001b[39m\u001b[38;5;124m'\u001b[39m] \u001b[38;5;241m=\u001b[39m \u001b[43minit_x\u001b[49m\u001b[43m[\u001b[49m\u001b[38;5;124;43m'\u001b[39;49m\u001b[38;5;124;43mhf\u001b[39;49m\u001b[38;5;124;43m'\u001b[39;49m\u001b[43m]\u001b[49m\u001b[38;5;241m.\u001b[39mshape[\u001b[38;5;241m0\u001b[39m]\n\u001b[1;32m    139\u001b[0m \u001b[38;5;28mself\u001b[39m\u001b[38;5;241m.\u001b[39mparams[\u001b[38;5;124m'\u001b[39m\u001b[38;5;124mn_lf\u001b[39m\u001b[38;5;124m'\u001b[39m] \u001b[38;5;241m=\u001b[39m init_x[\u001b[38;5;124m'\u001b[39m\u001b[38;5;124mlf\u001b[39m\u001b[38;5;124m'\u001b[39m]\u001b[38;5;241m.\u001b[39mshape[\u001b[38;5;241m0\u001b[39m]\n\u001b[1;32m    140\u001b[0m \u001b[38;5;28mself\u001b[39m\u001b[38;5;241m.\u001b[39mparams[\u001b[38;5;124m'\u001b[39m\u001b[38;5;124mcost\u001b[39m\u001b[38;5;124m'\u001b[39m] \u001b[38;5;241m=\u001b[39m \u001b[38;5;28mself\u001b[39m\u001b[38;5;241m.\u001b[39mparams[\u001b[38;5;124m'\u001b[39m\u001b[38;5;124mn_hf\u001b[39m\u001b[38;5;124m'\u001b[39m] \u001b[38;5;241m+\u001b[39m \\\n\u001b[1;32m    141\u001b[0m     \u001b[38;5;28mself\u001b[39m\u001b[38;5;241m.\u001b[39mparams[\u001b[38;5;124m'\u001b[39m\u001b[38;5;124mn_lf\u001b[39m\u001b[38;5;124m'\u001b[39m] \u001b[38;5;241m/\u001b[39m \u001b[38;5;28mself\u001b[39m\u001b[38;5;241m.\u001b[39mparams[\u001b[38;5;124m'\u001b[39m\u001b[38;5;124mcr\u001b[39m\u001b[38;5;124m'\u001b[39m]\n",
      "\u001b[0;31mTypeError\u001b[0m: list indices must be integers or slices, not str"
     ]
    }
   ],
   "source": [
    "mf_model = ScaledKriging(design_space=func._input_domain, optimizer_restart=20)\n",
    "acf1 = vfei()\n",
    "acf2 = augmentedEI()\n",
    "acf3 = vflcb()\n",
    "acf4 = extendedPI()\n",
    "\n",
    "opti = mfBayesOpt(problem=func)\n",
    "\n",
    "opti.run_optimizer(\n",
    "    mf_surrogate=mf_model,\n",
    "    acquisition=acf2,\n",
    "    max_iter=10,\n",
    "    init_x=sample_x,\n",
    "    init_y=sample_y,\n",
    ")\n",
    "opti.historical_plot(figsize=(5, 4))"
   ]
  }
 ],
 "metadata": {
  "kernelspec": {
   "display_name": "mfpml_env",
   "language": "python",
   "name": "python3"
  },
  "language_info": {
   "codemirror_mode": {
    "name": "ipython",
    "version": 3
   },
   "file_extension": ".py",
   "mimetype": "text/x-python",
   "name": "python",
   "nbconvert_exporter": "python",
   "pygments_lexer": "ipython3",
   "version": "3.10.13"
  },
  "orig_nbformat": 4
 },
 "nbformat": 4,
 "nbformat_minor": 2
}
