{
 "cells": [
  {
   "attachments": {},
   "cell_type": "markdown",
   "id": "5ce5a27a",
   "metadata": {},
   "source": [
    "# single fidelity function\n"
   ]
  },
  {
   "cell_type": "code",
   "execution_count": 1,
   "id": "a5697d29",
   "metadata": {},
   "outputs": [],
   "source": [
    "from mfpml.design_of_experiment.singlefideliy_samplers import LatinHyperCube\n",
    "from mfpml.problems.singlefidelity_functions import Forrester\n",
    "from mfpml.problems.multifidelity_functions import Forrester_1b\n",
    "import numpy as np"
   ]
  },
  {
   "cell_type": "code",
   "execution_count": 2,
   "id": "064469c8",
   "metadata": {},
   "outputs": [
    {
     "name": "stdout",
     "output_type": "stream",
     "text": [
      "[[0. 1.]]\n",
      "[[0.24408919]\n",
      " [0.52476815]]\n"
     ]
    }
   ],
   "source": [
    "# define function\n",
    "function = Forrester()\n",
    "\n",
    "print(function.input_domain)\n",
    "# test sampling part\n",
    "sampler = LatinHyperCube(design_space=function.input_domain)\n",
    "sample_x = sampler.get_samples(num_samples=2, seed=1)\n",
    "print(sample_x)"
   ]
  },
  {
   "cell_type": "code",
   "execution_count": 3,
   "id": "da61d988",
   "metadata": {},
   "outputs": [
    {
     "name": "stdout",
     "output_type": "stream",
     "text": [
      "[[0.90929743]]\n"
     ]
    }
   ],
   "source": [
    "\n",
    "sample_y = function.f(np.array([0.5]))\n",
    "print(sample_y)"
   ]
  },
  {
   "attachments": {},
   "cell_type": "markdown",
   "id": "ce5f86b0",
   "metadata": {},
   "source": [
    "# Multi-fidelity functions\n"
   ]
  },
  {
   "cell_type": "code",
   "execution_count": 4,
   "id": "91eef39e",
   "metadata": {},
   "outputs": [
    {
     "name": "stdout",
     "output_type": "stream",
     "text": [
      "[array([[0.55950899],\n",
      "       [0.97013411],\n",
      "       [0.26676969],\n",
      "       [0.40537555]]), array([[5.59508991e-01],\n",
      "       [9.70134110e-01],\n",
      "       [2.66769687e-01],\n",
      "       [4.05375551e-01],\n",
      "       [8.58749396e-01],\n",
      "       [6.74656789e-01],\n",
      "       [6.50634468e-02],\n",
      "       [7.38997944e-04],\n",
      "       [7.34891860e-01],\n",
      "       [7.93954002e-01],\n",
      "       [4.66081672e-01]])]\n"
     ]
    }
   ],
   "source": [
    "# define function\n",
    "from mfpml.design_of_experiment.multifidelity_samplers import MFSobolSequence\n",
    "function = Forrester_1b()\n",
    "design_space = function.input_domain\n",
    "# test sampling part\n",
    "sampler = MFSobolSequence(design_space=design_space,\n",
    "                          num_fidelity=2, nested=True)\n",
    "samples = sampler.get_samples(num_samples=[4, 11])\n",
    "print(samples)"
   ]
  },
  {
   "cell_type": "code",
   "execution_count": 5,
   "id": "320f8dd7",
   "metadata": {},
   "outputs": [],
   "source": [
    "sample_y = function(X=samples)"
   ]
  },
  {
   "cell_type": "code",
   "execution_count": 6,
   "id": "a8179c8f",
   "metadata": {},
   "outputs": [
    {
     "data": {
      "text/plain": [
       "[array([[ 0.76349455],\n",
       "        [14.27057189],\n",
       "        [-0.11428505],\n",
       "        [ 0.14214545]]),\n",
       " array([[-4.02316281],\n",
       "        [ 6.83662705],\n",
       "        [-7.38944566],\n",
       "        [-5.87517176],\n",
       "        [-1.30415088],\n",
       "        [-4.96440515],\n",
       "        [-9.24888108],\n",
       "        [-8.49730964],\n",
       "        [-5.53718063],\n",
       "        [-4.67968572],\n",
       "        [-5.02206314]])]"
      ]
     },
     "execution_count": 6,
     "metadata": {},
     "output_type": "execute_result"
    }
   ],
   "source": [
    "sample_y"
   ]
  },
  {
   "cell_type": "code",
   "execution_count": null,
   "id": "09603341",
   "metadata": {},
   "outputs": [],
   "source": [
    "# test functions\n",
    "from mfpml.problems.multifidelity_functions import (\n",
    "    Forrester_1a, Forrester_1b, Forrester_1c, mf_Sixhump, mf_Hartman3, mf_Hartman6, mf_Discontinuous)"
   ]
  },
  {
   "cell_type": "code",
   "execution_count": null,
   "id": "69f94180",
   "metadata": {},
   "outputs": [],
   "source": [
    "forrester1a = Forrester_1a(num_dim=1)\n",
    "# design space\n",
    "design_space = forrester1a.design_space\n",
    "best_value = forrester1a.optimum\n",
    "sample_y = {}\n",
    "sample_y[\"hf\"] = forrester1a.hf(samples[\"hf\"])\n",
    "sample_y[\"lf\"] = forrester1a.lf(samples[\"lf\"])\n",
    "print(design_space)\n",
    "print(best_value)"
   ]
  },
  {
   "cell_type": "code",
   "execution_count": null,
   "id": "e4f3b306",
   "metadata": {},
   "outputs": [],
   "source": [
    "forrester1b = Forrester_1b(num_dim=1)\n",
    "# design space\n",
    "design_space = forrester1b.design_space\n",
    "best_value = forrester1b.optimum\n",
    "sample_y = {}\n",
    "sample_y[\"hf\"] = forrester1b.hf(samples[\"hf\"])\n",
    "sample_y[\"lf\"] = forrester1b.lf(samples[\"lf\"])\n",
    "print(design_space)\n",
    "print(design_space)\n",
    "print(best_value)"
   ]
  },
  {
   "cell_type": "code",
   "execution_count": null,
   "id": "071099d2",
   "metadata": {},
   "outputs": [],
   "source": [
    "forrester1c = Forrester_1c(num_dim=1)\n",
    "# design space\n",
    "design_space = forrester1c.design_space\n",
    "best_value = forrester1c.optimum\n",
    "sample_y = {}\n",
    "sample_y[\"hf\"] = forrester1c.hf(samples[\"hf\"])\n",
    "sample_y[\"lf\"] = forrester1c.lf(samples[\"lf\"])\n",
    "print(design_space)\n",
    "print(best_value)"
   ]
  },
  {
   "cell_type": "code",
   "execution_count": null,
   "id": "fcce6729",
   "metadata": {},
   "outputs": [],
   "source": [
    "mf_Disc = mf_Discontinuous(num_dim=1)\n",
    "# design space\n",
    "design_space = mf_Disc.design_space\n",
    "best_value = mf_Disc.optimum\n",
    "sample_y = {}\n",
    "sample_y[\"hf\"] = mf_Disc.hf(samples[\"hf\"])\n",
    "sample_y[\"lf\"] = mf_Disc.lf(samples[\"lf\"])\n",
    "print(design_space)\n",
    "print(best_value)"
   ]
  },
  {
   "cell_type": "code",
   "execution_count": null,
   "id": "5e7196b8",
   "metadata": {},
   "outputs": [],
   "source": [
    "# test functions\n",
    "from mfpml.problems.multifidelity_functions import ContinuousNonlinearCorrelation1D\n",
    "\n",
    "function = ContinuousNonlinearCorrelation1D(num_dim=1)\n",
    "# design space\n",
    "design_space = function.design_space\n",
    "best_value = function.optimum\n",
    "sample_y = {}\n",
    "sample_y[\"hf\"] = function.hf(samples[\"hf\"])\n",
    "sample_y[\"lf\"] = function.lf(samples[\"lf\"])\n",
    "print(design_space)\n",
    "print(best_value)"
   ]
  },
  {
   "cell_type": "code",
   "execution_count": null,
   "id": "701a2220",
   "metadata": {},
   "outputs": [],
   "source": [
    "# test functions\n",
    "from mfpml.problems.multifidelity_functions import PhaseShiftedOscillations\n",
    "\n",
    "function = PhaseShiftedOscillations(num_dim=1)\n",
    "# design space\n",
    "design_space = function.design_space\n",
    "best_value = function.optimum\n",
    "sample_y = {}\n",
    "sample_y[\"hf\"] = function.hf(samples[\"hf\"])\n",
    "sample_y[\"lf\"] = function.lf(samples[\"lf\"])\n",
    "print(design_space)\n",
    "print(best_value)"
   ]
  },
  {
   "cell_type": "code",
   "execution_count": null,
   "id": "260d4f21",
   "metadata": {},
   "outputs": [],
   "source": [
    "mf_sixhum = mf_Sixhump(num_dim=2)\n",
    "# design space\n",
    "design_space = mf_sixhum.design_space\n",
    "best_value = mf_sixhum.optimum\n",
    "\n",
    "print(design_space)\n",
    "print(best_value)"
   ]
  },
  {
   "cell_type": "code",
   "execution_count": null,
   "id": "62303a2d",
   "metadata": {},
   "outputs": [],
   "source": [
    "sampler = MFSobolSequence(design_space=design_space, seed=12, nested=True)\n",
    "samples = sampler.get_samples(num_lf_samples=10, num_hf_samples=4)\n",
    "sampler.plot_samples(figsize=(3.5, 3.5))"
   ]
  },
  {
   "cell_type": "code",
   "execution_count": null,
   "id": "ce734053",
   "metadata": {},
   "outputs": [],
   "source": [
    "sample_y = {}\n",
    "sample_y[\"hf\"] = mf_sixhum.hf(samples[\"hf\"])\n",
    "sample_y[\"lf\"] = mf_sixhum.lf(samples[\"lf\"])\n",
    "print(sample_y)"
   ]
  }
 ],
 "metadata": {
  "kernelspec": {
   "display_name": "f3dasm_env",
   "language": "python",
   "name": "python3"
  },
  "language_info": {
   "codemirror_mode": {
    "name": "ipython",
    "version": 3
   },
   "file_extension": ".py",
   "mimetype": "text/x-python",
   "name": "python",
   "nbconvert_exporter": "python",
   "pygments_lexer": "ipython3",
   "version": "3.10.14"
  },
  "vscode": {
   "interpreter": {
    "hash": "c39285bcfde79f26e0e78eaf231a537699253e80155c74e3f080c25e1bcc9abb"
   }
  }
 },
 "nbformat": 4,
 "nbformat_minor": 5
}
