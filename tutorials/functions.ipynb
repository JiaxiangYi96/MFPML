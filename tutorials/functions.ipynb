{
 "cells": [
  {
   "attachments": {},
   "cell_type": "markdown",
   "id": "5ce5a27a",
   "metadata": {},
   "source": [
    "# single fidelity function\n"
   ]
  },
  {
   "cell_type": "code",
   "execution_count": 18,
   "id": "a5697d29",
   "metadata": {},
   "outputs": [],
   "source": [
    "from mfpml.design_of_experiment.singlefideliy_samplers import LatinHyperCube\n",
    "from mfpml.problems.singlefidelity_functions import Forrester\n",
    "from mfpml.problems.multifidelity_functions import Forrester_1b"
   ]
  },
  {
   "cell_type": "code",
   "execution_count": 21,
   "id": "064469c8",
   "metadata": {},
   "outputs": [
    {
     "name": "stdout",
     "output_type": "stream",
     "text": [
      "[[0. 1.]]\n"
     ]
    },
    {
     "data": {
      "image/png": "[encoded data removed]",
      "text/plain": [
       "<Figure size 400x300 with 1 Axes>"
      ]
     },
     "metadata": {},
     "output_type": "display_data"
    }
   ],
   "source": [
    "# define function\n",
    "function = Forrester()\n",
    "design_space = function.design_space\n",
    "print(function.input_domain)\n",
    "# test sampling part\n",
    "sampler = LatinHyperCube(design_space=design_space, seed=12)\n",
    "sample_x = sampler.get_samples(num_samples=2)\n",
    "sampler.plot_samples(figsize=(4, 3))"
   ]
  },
  {
   "cell_type": "code",
   "execution_count": 20,
   "id": "da61d988",
   "metadata": {},
   "outputs": [
    {
     "name": "stdout",
     "output_type": "stream",
     "text": [
      "[[0.90929743]]\n"
     ]
    }
   ],
   "source": [
    "import numpy as np\n",
    "sample_y = function.f(np.array([0.5]))\n",
    "print(sample_y)"
   ]
  },
  {
   "attachments": {},
   "cell_type": "markdown",
   "id": "ce5f86b0",
   "metadata": {},
   "source": [
    "# Multi-fidelity functions\n"
   ]
  },
  {
   "cell_type": "code",
   "execution_count": 22,
   "id": "91eef39e",
   "metadata": {},
   "outputs": [
    {
     "name": "stdout",
     "output_type": "stream",
     "text": [
      "{'hf': array([[0.80792223],\n",
      "       [0.71308938],\n",
      "       [0.41490549],\n",
      "       [0.32238455]]), 'lf': array([[0.80792223],\n",
      "       [0.71308938],\n",
      "       [0.41490549],\n",
      "       [0.32238455],\n",
      "       [0.55563276],\n",
      "       [0.96244871],\n",
      "       [0.16737654],\n",
      "       [0.21812944],\n",
      "       [0.91963846],\n",
      "       [0.57500589]])}\n"
     ]
    },
    {
     "data": {
      "image/png": "[encoded data removed]",
      "text/plain": [
       "<Figure size 400x400 with 1 Axes>"
      ]
     },
     "metadata": {},
     "output_type": "display_data"
    }
   ],
   "source": [
    "# define function\n",
    "from mfpml.design_of_experiment.multifidelity_samplers import MFSobolSequence\n",
    "function = Forrester_1b()\n",
    "design_space = function.design_space\n",
    "# test sampling part\n",
    "sampler = MFSobolSequence(design_space=design_space, seed=12, nested=True)\n",
    "samples = sampler.get_samples(num_lf_samples=10, num_hf_samples=4)\n",
    "print(samples)\n",
    "sampler.plot_samples(figsize=(4, 4))"
   ]
  },
  {
   "cell_type": "code",
   "execution_count": 26,
   "id": "320f8dd7",
   "metadata": {},
   "outputs": [
    {
     "name": "stdout",
     "output_type": "stream",
     "text": [
      "{'hf': array([[-4.49853898]]), 'lf': array([[-4.17004719]])}\n"
     ]
    }
   ],
   "source": [
    "sample_y = {}\n",
    "sample_x = {'hf': np.array([[0.80792223]]),\n",
    "            'lf': np.array([[0.80792223]])}\n",
    "sample_y[\"hf\"] = function.hf(sample_x[\"hf\"])\n",
    "sample_y[\"lf\"] = function.lf(sample_x[\"lf\"])\n",
    "print(sample_y)"
   ]
  },
  {
   "cell_type": "code",
   "execution_count": 6,
   "id": "09603341",
   "metadata": {},
   "outputs": [],
   "source": [
    "# test functions\n",
    "from mfpml.problems.multifidelity_functions import (\n",
    "    Forrester_1a, Forrester_1b, Forrester_1c, mf_Sixhump, mf_Hartman3, mf_Hartman6, mf_Discontinuous)"
   ]
  },
  {
   "cell_type": "code",
   "execution_count": 7,
   "id": "69f94180",
   "metadata": {},
   "outputs": [
    {
     "name": "stdout",
     "output_type": "stream",
     "text": [
      "{'x': [0.0, 1.0]}\n",
      "-6.02074\n"
     ]
    }
   ],
   "source": [
    "forrester1a = Forrester_1a(num_dim=1)\n",
    "# design space\n",
    "design_space = forrester1a.design_space\n",
    "best_value = forrester1a.optimum\n",
    "sample_y = {}\n",
    "sample_y[\"hf\"] = forrester1a.hf(samples[\"hf\"])\n",
    "sample_y[\"lf\"] = forrester1a.lf(samples[\"lf\"])\n",
    "print(design_space)\n",
    "print(best_value)"
   ]
  },
  {
   "cell_type": "code",
   "execution_count": 8,
   "id": "e4f3b306",
   "metadata": {},
   "outputs": [
    {
     "name": "stdout",
     "output_type": "stream",
     "text": [
      "{'x': [0.0, 1.0]}\n",
      "{'x': [0.0, 1.0]}\n",
      "-6.02074\n"
     ]
    }
   ],
   "source": [
    "forrester1b = Forrester_1b(num_dim=1)\n",
    "# design space\n",
    "design_space = forrester1b.design_space\n",
    "best_value = forrester1b.optimum\n",
    "sample_y = {}\n",
    "sample_y[\"hf\"] = forrester1b.hf(samples[\"hf\"])\n",
    "sample_y[\"lf\"] = forrester1b.lf(samples[\"lf\"])\n",
    "print(design_space)\n",
    "print(design_space)\n",
    "print(best_value)"
   ]
  },
  {
   "cell_type": "code",
   "execution_count": 9,
   "id": "071099d2",
   "metadata": {},
   "outputs": [
    {
     "name": "stdout",
     "output_type": "stream",
     "text": [
      "{'x': [0.0, 1.0]}\n",
      "-6.02074\n"
     ]
    }
   ],
   "source": [
    "forrester1c = Forrester_1c(num_dim=1)\n",
    "# design space\n",
    "design_space = forrester1c.design_space\n",
    "best_value = forrester1c.optimum\n",
    "sample_y = {}\n",
    "sample_y[\"hf\"] = forrester1c.hf(samples[\"hf\"])\n",
    "sample_y[\"lf\"] = forrester1c.lf(samples[\"lf\"])\n",
    "print(design_space)\n",
    "print(best_value)"
   ]
  },
  {
   "cell_type": "code",
   "execution_count": 10,
   "id": "fcce6729",
   "metadata": {},
   "outputs": [
    {
     "name": "stdout",
     "output_type": "stream",
     "text": [
      "{'x': [0.0, 1.0]}\n",
      "None\n"
     ]
    }
   ],
   "source": [
    "mf_Disc = mf_Discontinuous(num_dim=1)\n",
    "# design space\n",
    "design_space = mf_Disc.design_space\n",
    "best_value = mf_Disc.optimum\n",
    "sample_y = {}\n",
    "sample_y[\"hf\"] = mf_Disc.hf(samples[\"hf\"])\n",
    "sample_y[\"lf\"] = mf_Disc.lf(samples[\"lf\"])\n",
    "print(design_space)\n",
    "print(best_value)"
   ]
  },
  {
   "cell_type": "code",
   "execution_count": 11,
   "id": "5e7196b8",
   "metadata": {},
   "outputs": [
    {
     "name": "stdout",
     "output_type": "stream",
     "text": [
      "{'x': [0.0, 1.0]}\n",
      "None\n"
     ]
    }
   ],
   "source": [
    "# test functions\n",
    "from mfpml.problems.multifidelity_functions import ContinuousNonlinearCorrelation1D\n",
    "\n",
    "function = ContinuousNonlinearCorrelation1D(num_dim=1)\n",
    "# design space\n",
    "design_space = function.design_space\n",
    "best_value = function.optimum\n",
    "sample_y = {}\n",
    "sample_y[\"hf\"] = function.hf(samples[\"hf\"])\n",
    "sample_y[\"lf\"] = function.lf(samples[\"lf\"])\n",
    "print(design_space)\n",
    "print(best_value)"
   ]
  },
  {
   "cell_type": "code",
   "execution_count": 12,
   "id": "701a2220",
   "metadata": {},
   "outputs": [
    {
     "name": "stdout",
     "output_type": "stream",
     "text": [
      "{'x': [0.0, 1.0]}\n",
      "None\n"
     ]
    }
   ],
   "source": [
    "# test functions\n",
    "from mfpml.problems.multifidelity_functions import PhaseShiftedOscillations\n",
    "\n",
    "function = PhaseShiftedOscillations(num_dim=1)\n",
    "# design space\n",
    "design_space = function.design_space\n",
    "best_value = function.optimum\n",
    "sample_y = {}\n",
    "sample_y[\"hf\"] = function.hf(samples[\"hf\"])\n",
    "sample_y[\"lf\"] = function.lf(samples[\"lf\"])\n",
    "print(design_space)\n",
    "print(best_value)"
   ]
  },
  {
   "cell_type": "code",
   "execution_count": 13,
   "id": "260d4f21",
   "metadata": {},
   "outputs": [
    {
     "name": "stdout",
     "output_type": "stream",
     "text": [
      "{'x1': [-2.0, 2.0], 'x2': [-2.0, 2.0]}\n",
      "-1.0316\n"
     ]
    }
   ],
   "source": [
    "mf_sixhum = mf_Sixhump(num_dim=2)\n",
    "# design space\n",
    "design_space = mf_sixhum.design_space\n",
    "best_value = mf_sixhum.optimum\n",
    "\n",
    "print(design_space)\n",
    "print(best_value)"
   ]
  },
  {
   "cell_type": "code",
   "execution_count": 14,
   "id": "62303a2d",
   "metadata": {},
   "outputs": [
    {
     "data": {
      "image/png": "[encoded data removed]",
      "text/plain": [
       "<Figure size 350x350 with 1 Axes>"
      ]
     },
     "metadata": {},
     "output_type": "display_data"
    }
   ],
   "source": [
    "sampler = MFSobolSequence(design_space=design_space, seed=12, nested=True)\n",
    "samples = sampler.get_samples(num_lf_samples=10, num_hf_samples=4)\n",
    "sampler.plot_samples(figsize=(3.5, 3.5))"
   ]
  },
  {
   "cell_type": "code",
   "execution_count": 15,
   "id": "ce734053",
   "metadata": {},
   "outputs": [
    {
     "name": "stdout",
     "output_type": "stream",
     "text": [
      "{'hf': array([[23.10708822],\n",
      "       [39.97122481],\n",
      "       [11.07704153],\n",
      "       [ 7.19511347]]), 'lf': array([[ -8.87003875],\n",
      "       [ -8.24164263],\n",
      "       [-14.65910464],\n",
      "       [-14.41951306],\n",
      "       [-14.7525522 ],\n",
      "       [-12.69056186],\n",
      "       [-10.85876526],\n",
      "       [-13.93913621],\n",
      "       [-12.74475559],\n",
      "       [-14.30681336]])}\n"
     ]
    }
   ],
   "source": [
    "sample_y = {}\n",
    "sample_y[\"hf\"] = mf_sixhum.hf(samples[\"hf\"])\n",
    "sample_y[\"lf\"] = mf_sixhum.lf(samples[\"lf\"])\n",
    "print(sample_y)"
   ]
  }
 ],
 "metadata": {
  "kernelspec": {
   "display_name": "f3dasm_env",
   "language": "python",
   "name": "python3"
  },
  "language_info": {
   "codemirror_mode": {
    "name": "ipython",
    "version": 3
   },
   "file_extension": ".py",
   "mimetype": "text/x-python",
   "name": "python",
   "nbconvert_exporter": "python",
   "pygments_lexer": "ipython3",
   "version": "3.10.10"
  },
  "vscode": {
   "interpreter": {
    "hash": "c39285bcfde79f26e0e78eaf231a537699253e80155c74e3f080c25e1bcc9abb"
   }
  }
 },
 "nbformat": 4,
 "nbformat_minor": 5
}
