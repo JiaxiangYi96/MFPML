{
 "cells": [
  {
   "cell_type": "code",
   "execution_count": 3,
   "metadata": {},
   "outputs": [],
   "source": [
    "\n",
    "import torch\n",
    "import numpy as np\n",
    "import matplotlib.pyplot as plt\n",
    "\n",
    "\n",
    "# import local functions\n",
    "from mfpml.design_of_experiment.sf_samplers import SobolSequence\n",
    "from mfpml.problems.sf_functions import Sixhump\n",
    "from mfpml.problems.functions import get_class\n",
    "from sklearn.metrics import r2_score, mean_squared_error, max_error"
   ]
  },
  {
   "cell_type": "code",
   "execution_count": 2,
   "metadata": {},
   "outputs": [],
   "source": [
    "# define the test function \n",
    "function = Sixhump() \n",
    "num_trial = 10 \n",
    "record_results_gpy = np.zeros((num_trial, 3)) \n",
    "record_results_scipy = np.zeros((num_trial, 3)) \n",
    "record_results_own = np.zeros((num_trial, 3)) \n",
    "# get the number of variables\n",
    "num_dim = function.num_dim\n",
    "# user-defined parameters\n",
    "num_sample = 30\n",
    "# define the design space\n",
    "design_space = function.design_space"
   ]
  },
  {
   "attachments": {},
   "cell_type": "markdown",
   "metadata": {},
   "source": [
    "## kriging model"
   ]
  },
  {
   "cell_type": "code",
   "execution_count": 3,
   "metadata": {},
   "outputs": [],
   "source": [
    "from mfpml.models.kriging import Kriging"
   ]
  },
  {
   "cell_type": "code",
   "execution_count": 4,
   "metadata": {},
   "outputs": [],
   "source": [
    "for jj in range(num_trial):\n",
    "    # sampling\n",
    "    sampler = SobolSequence(design_space=design_space, seed=None)\n",
    "    sample_x = sampler.get_samples(num_samples=num_sample)\n",
    "    sample_y = function.f(sample_x)\n",
    "    # gpr model\n",
    "    gprmodel  = Kriging(design_space=function._input_domain)\n",
    "    gprmodel.train(sample_x, sample_y)\n",
    "    # prediction\n",
    "    num_test = 1000\n",
    "    test_x = sampler.get_samples(num_samples=num_test)\n",
    "    test_y = function.f(test_x.copy())\n",
    "    pred_mean, pred_std = gprmodel.predict(test_x, return_std=True)\n",
    "\n",
    "    # calculate different metrics to record the accuracy of the prediction\n",
    "    mse = mean_squared_error(pred_mean, test_y)\n",
    "    r2 = r2_score(pred_mean, test_y)\n",
    "    mae = max_error(pred_mean, test_y)\n",
    "\n",
    "    # record the results\n",
    "    record_results_own[jj, :] = np.array([mse, r2, mae])"
   ]
  },
  {
   "cell_type": "code",
   "execution_count": null,
   "metadata": {},
   "outputs": [],
   "source": []
  },
  {
   "cell_type": "code",
   "execution_count": 5,
   "metadata": {},
   "outputs": [
    {
     "name": "stdout",
     "output_type": "stream",
     "text": [
      "[[0.32688056 0.99987754 6.1098497 ]\n",
      " [0.98656665 0.99963054 7.33776841]\n",
      " [0.73386449 0.99971526 9.03738217]\n",
      " [0.36781781 0.99984974 4.81578641]\n",
      " [0.49565613 0.99981662 5.01515278]\n",
      " [0.05816999 0.99997694 2.272895  ]\n",
      " [0.65362562 0.99974424 4.47505025]\n",
      " [0.24987397 0.99990443 4.28922849]\n",
      " [0.41652097 0.99983823 8.01010503]\n",
      " [0.24290263 0.9999099  6.37062391]]\n"
     ]
    }
   ],
   "source": [
    "print(record_results_own)"
   ]
  },
  {
   "cell_type": "code",
   "execution_count": 6,
   "metadata": {},
   "outputs": [
    {
     "data": {
      "image/png": "[encoded data removed]",
      "text/plain": [
       "<Figure size 1500x400 with 3 Axes>"
      ]
     },
     "metadata": {},
     "output_type": "display_data"
    }
   ],
   "source": [
    "# plot all results \n",
    "import matplotlib.pyplot as plt \n",
    "mse = np.array([record_results_own[:,0] ]).T\n",
    "r2 = np.array([record_results_own[:,1] ]).T\n",
    "mae = np.array([record_results_own[:,2] ]).T\n",
    "fig, ax = plt.subplots(1,3,figsize=(15,4))\n",
    "ax[0].boxplot(mse)\n",
    "ax[1].boxplot(r2)\n",
    "ax[2].boxplot(mae)\n",
    "plt.show()"
   ]
  },
  {
   "cell_type": "code",
   "execution_count": 6,
   "metadata": {},
   "outputs": [],
   "source": [
    "import sys\n",
    "from mfpml.problems.sf_functions import Forrester\n"
   ]
  },
  {
   "cell_type": "code",
   "execution_count": 5,
   "metadata": {},
   "outputs": [
    {
     "ename": "AttributeError",
     "evalue": "module 'mfpml.problems.functions' has no attribute 'Forrester'",
     "output_type": "error",
     "traceback": [
      "\u001b[0;31m---------------------------------------------------------------------------\u001b[0m",
      "\u001b[0;31mAttributeError\u001b[0m                            Traceback (most recent call last)",
      "Cell \u001b[0;32mIn[5], line 1\u001b[0m\n\u001b[0;32m----> 1\u001b[0m test \u001b[39m=\u001b[39m get_class(\u001b[39m\"\u001b[39;49m\u001b[39mForrester\u001b[39;49m\u001b[39m\"\u001b[39;49m)\n\u001b[1;32m      2\u001b[0m test\u001b[39m.\u001b[39mdesign_space\n",
      "File \u001b[0;32m~/Documents/mfpml/mfpml/problems/functions.py:323\u001b[0m, in \u001b[0;36mget_class\u001b[0;34m(class_name)\u001b[0m\n\u001b[1;32m    322\u001b[0m \u001b[39mdef\u001b[39;00m \u001b[39mget_class\u001b[39m(class_name: \u001b[39mstr\u001b[39m):\n\u001b[0;32m--> 323\u001b[0m     \u001b[39mreturn\u001b[39;00m \u001b[39mgetattr\u001b[39;49m(sys\u001b[39m.\u001b[39;49mmodules[\u001b[39m__name__\u001b[39;49m], class_name)\n",
      "\u001b[0;31mAttributeError\u001b[0m: module 'mfpml.problems.functions' has no attribute 'Forrester'"
     ]
    }
   ],
   "source": [
    "test = get_class(\"Forrester\")\n",
    "test.design_space"
   ]
  },
  {
   "cell_type": "code",
   "execution_count": 2,
   "metadata": {},
   "outputs": [
    {
     "name": "stdout",
     "output_type": "stream",
     "text": [
      "aa_10.pickle\n"
     ]
    }
   ],
   "source": [
    "fun_name = ['aa','bb'] \n",
    "num_sample =10\n",
    "filename = fun_name[0] + \"_\" + str(num_sample) + \".pickle\"\n",
    "print(filename)"
   ]
  }
 ],
 "metadata": {
  "kernelspec": {
   "display_name": "MLenv3",
   "language": "python",
   "name": "python3"
  },
  "language_info": {
   "codemirror_mode": {
    "name": "ipython",
    "version": 3
   },
   "file_extension": ".py",
   "mimetype": "text/x-python",
   "name": "python",
   "nbconvert_exporter": "python",
   "pygments_lexer": "ipython3",
   "version": "3.10.10"
  },
  "orig_nbformat": 4,
  "vscode": {
   "interpreter": {
    "hash": "5b7695ae593005ad338e3372287976f19b7c67d373f563b2f55fe01c6d782a6e"
   }
  }
 },
 "nbformat": 4,
 "nbformat_minor": 2
}
