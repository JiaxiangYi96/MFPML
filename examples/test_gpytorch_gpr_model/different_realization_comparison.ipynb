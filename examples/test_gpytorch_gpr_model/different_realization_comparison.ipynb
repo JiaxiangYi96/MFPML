{
 "cells": [
  {
   "cell_type": "code",
   "execution_count": 1,
   "metadata": {},
   "outputs": [],
   "source": [
    "import sys\n",
    "import torch\n",
    "import gpytorch\n",
    "import numpy as np\n",
    "import matplotlib.pyplot as plt\n",
    "folder_path = \"/home/yaga/Documents/GitHub/mfpml\"\n",
    "sys.path.insert(0, folder_path)\n",
    "\n",
    "# import local functions\n",
    "from mfpml.design_of_experiment.sf_samplers import LatinHyperCube\n",
    "from mfpml.problems.sf_functions import Branin\n",
    "from mfpml.design_of_experiment.plot_figures import plot_sf_sampling\n",
    "from mfpml.models.gaussian_processes import Kriging\n",
    "from sklearn.metrics import r2_score, mean_squared_error, max_error"
   ]
  },
  {
   "cell_type": "code",
   "execution_count": 2,
   "metadata": {},
   "outputs": [],
   "source": [
    "# define the test function \n",
    "function = Branin() \n",
    "num_trial = 10 \n",
    "record_results_gpy = np.zeros((num_trial, 3)) \n",
    "record_results_scipy = np.zeros((num_trial, 3)) \n",
    "record_results_own = np.zeros((num_trial, 3)) \n",
    "# get the number of variables\n",
    "num_dim = function.num_dim\n",
    "# user-defined parameters\n",
    "num_sample = 30\n",
    "# define the design space\n",
    "design_space = function.design_space"
   ]
  },
  {
   "attachments": {},
   "cell_type": "markdown",
   "metadata": {},
   "source": [
    "## gpytorch "
   ]
  },
  {
   "cell_type": "code",
   "execution_count": 3,
   "metadata": {},
   "outputs": [
    {
     "name": "stderr",
     "output_type": "stream",
     "text": [
      "/home/yaga/miniconda3/envs/MLenv3/lib/python3.10/site-packages/gpytorch/likelihoods/noise_models.py:144: NumericalWarning: Very small noise values detected. This will likely lead to numerical instabilities. Rounding small noise values up to 0.0001.\n",
      "  warnings.warn(\n",
      "/home/yaga/miniconda3/envs/MLenv3/lib/python3.10/site-packages/gpytorch/likelihoods/noise_models.py:144: NumericalWarning: Very small noise values detected. This will likely lead to numerical instabilities. Rounding small noise values up to 0.0001.\n",
      "  warnings.warn(\n",
      "/home/yaga/miniconda3/envs/MLenv3/lib/python3.10/site-packages/gpytorch/likelihoods/noise_models.py:144: NumericalWarning: Very small noise values detected. This will likely lead to numerical instabilities. Rounding small noise values up to 0.0001.\n",
      "  warnings.warn(\n",
      "/home/yaga/miniconda3/envs/MLenv3/lib/python3.10/site-packages/gpytorch/likelihoods/noise_models.py:144: NumericalWarning: Very small noise values detected. This will likely lead to numerical instabilities. Rounding small noise values up to 0.0001.\n",
      "  warnings.warn(\n",
      "/home/yaga/miniconda3/envs/MLenv3/lib/python3.10/site-packages/gpytorch/likelihoods/noise_models.py:144: NumericalWarning: Very small noise values detected. This will likely lead to numerical instabilities. Rounding small noise values up to 0.0001.\n",
      "  warnings.warn(\n",
      "/home/yaga/miniconda3/envs/MLenv3/lib/python3.10/site-packages/gpytorch/likelihoods/noise_models.py:144: NumericalWarning: Very small noise values detected. This will likely lead to numerical instabilities. Rounding small noise values up to 0.0001.\n",
      "  warnings.warn(\n",
      "/home/yaga/miniconda3/envs/MLenv3/lib/python3.10/site-packages/gpytorch/likelihoods/noise_models.py:144: NumericalWarning: Very small noise values detected. This will likely lead to numerical instabilities. Rounding small noise values up to 0.0001.\n",
      "  warnings.warn(\n",
      "/home/yaga/miniconda3/envs/MLenv3/lib/python3.10/site-packages/gpytorch/likelihoods/noise_models.py:144: NumericalWarning: Very small noise values detected. This will likely lead to numerical instabilities. Rounding small noise values up to 0.0001.\n",
      "  warnings.warn(\n",
      "/home/yaga/miniconda3/envs/MLenv3/lib/python3.10/site-packages/gpytorch/likelihoods/noise_models.py:144: NumericalWarning: Very small noise values detected. This will likely lead to numerical instabilities. Rounding small noise values up to 0.0001.\n",
      "  warnings.warn(\n",
      "/home/yaga/miniconda3/envs/MLenv3/lib/python3.10/site-packages/gpytorch/likelihoods/noise_models.py:144: NumericalWarning: Very small noise values detected. This will likely lead to numerical instabilities. Rounding small noise values up to 0.0001.\n",
      "  warnings.warn(\n"
     ]
    }
   ],
   "source": [
    "for jj in range(num_trial):\n",
    "    # sampling\n",
    "    sampler = LatinHyperCube(design_space=design_space, seed=None)\n",
    "    sample_x = sampler.get_samples(num_samples=num_sample)\n",
    "    sample_y = function.f(sample_x)\n",
    "    train_x = torch.from_numpy(sample_x)\n",
    "    train_y = torch.from_numpy(sample_y).flatten()\n",
    "\n",
    "    # gpr model\n",
    "    gprmodel = Kriging()\n",
    "    gprmodel.train(\n",
    "        train_x=train_x.clone(),\n",
    "        train_y=train_y.clone(),\n",
    "        design_space=function.design_space,\n",
    "        normlize=True,\n",
    "        training_iteration=500,\n",
    "        learning_rate=0.02,\n",
    "        print_info=False,\n",
    "    )\n",
    "    # prediction\n",
    "    num_test = 1000\n",
    "    test_x = sampler.get_samples(num_samples=num_test)\n",
    "    test_y = function.f(test_x.copy()).flatten()\n",
    "    test_x = torch.from_numpy(test_x)\n",
    "    # pred_mean = gprmodel.predict(test_x=test_x.clone()).mean.numpy()\n",
    "    pred = gprmodel.predict(test_x=test_x.clone())\n",
    "    pred_mean = pred.mean.numpy()\n",
    "\n",
    "    # calculate different metrics to record the accuracy of the prediction\n",
    "    mse = mean_squared_error(pred_mean, test_y)\n",
    "    r2 = r2_score(pred_mean, test_y)\n",
    "    mae = max_error(pred_mean, test_y)\n",
    "\n",
    "    # record the results\n",
    "    record_results_gpy[jj, :] = np.array([mse, r2, mae])\n"
   ]
  },
  {
   "cell_type": "code",
   "execution_count": 4,
   "metadata": {},
   "outputs": [
    {
     "name": "stdout",
     "output_type": "stream",
     "text": [
      "[[3.42905407e+02 8.21420613e-01 1.96405365e+02]\n",
      " [2.64391465e+02 8.70484077e-01 1.59372303e+02]\n",
      " [2.15580220e+02 8.97836522e-01 7.77343570e+01]\n",
      " [2.62143297e+02 8.83700335e-01 1.50895372e+02]\n",
      " [7.67614791e+02 6.70496391e-01 1.33397481e+02]\n",
      " [1.12228017e+02 9.56708284e-01 4.76396375e+01]\n",
      " [2.95010736e+02 8.59950486e-01 1.75613286e+02]\n",
      " [1.67442602e+02 9.16842262e-01 1.03787305e+02]\n",
      " [4.10134460e+02 8.00300953e-01 2.04994564e+02]\n",
      " [1.34136976e+02 9.38716797e-01 9.68484497e+01]]\n"
     ]
    }
   ],
   "source": [
    "print(record_results_gpy)"
   ]
  },
  {
   "attachments": {},
   "cell_type": "markdown",
   "metadata": {},
   "source": [
    "## scipy_gpr model "
   ]
  },
  {
   "cell_type": "code",
   "execution_count": 5,
   "metadata": {},
   "outputs": [],
   "source": [
    "from pyro import sample\n",
    "from sklearn.gaussian_process import GaussianProcessRegressor\n",
    "from sklearn.gaussian_process.kernels import RBF\n",
    "for jj in range(num_trial):\n",
    "    # sampling\n",
    "    sampler = LatinHyperCube(design_space=design_space, seed=None)\n",
    "    sample_x = sampler.get_samples(num_samples=num_sample)\n",
    "    sample_y = function.f(sample_x)\n",
    "    rbf = 1.0 * RBF(length_scale=1.0, length_scale_bounds=(1e-2, 1e2))\n",
    "    # gpr model\n",
    "    gprmodel = GaussianProcessRegressor(kernel=rbf, n_restarts_optimizer=20)\n",
    "    gprmodel.fit(sample_x, sample_y)\n",
    "    # prediction\n",
    "    num_test = 1000\n",
    "    test_x = sampler.get_samples(num_samples=num_test)\n",
    "    test_y = function.f(test_x.copy())\n",
    "    pred_mean, pred_std = gprmodel.predict(test_x, return_std=True)\n",
    "\n",
    "    # calculate different metrics to record the accuracy of the prediction\n",
    "    mse = mean_squared_error(pred_mean, test_y)\n",
    "    r2 = r2_score(pred_mean, test_y)\n",
    "    mae = max_error(pred_mean, test_y)\n",
    "\n",
    "    # record the results\n",
    "    record_results_scipy[jj, :] = np.array([mse, r2, mae])\n"
   ]
  },
  {
   "cell_type": "code",
   "execution_count": 6,
   "metadata": {},
   "outputs": [
    {
     "name": "stdout",
     "output_type": "stream",
     "text": [
      "[[ 52.90035528   0.97974665  46.44986134]\n",
      " [172.98018141   0.94139221  57.57448276]\n",
      " [229.00644245   0.88374359 154.24130006]\n",
      " [174.7315469    0.93495527  80.93219015]\n",
      " [ 64.2515309    0.97213539  86.451709  ]\n",
      " [310.41684847   0.85854296 147.55275068]\n",
      " [149.81335969   0.93883002 133.28521694]\n",
      " [177.17252851   0.93179021  76.47001327]\n",
      " [137.07371856   0.93826161  90.41228296]\n",
      " [102.37851545   0.95726581 124.77512499]]\n"
     ]
    }
   ],
   "source": [
    "print(record_results_scipy)"
   ]
  },
  {
   "attachments": {},
   "cell_type": "markdown",
   "metadata": {},
   "source": [
    "## own kriging model"
   ]
  },
  {
   "cell_type": "code",
   "execution_count": 7,
   "metadata": {},
   "outputs": [],
   "source": [
    "from mfpml.models.kriging import Kriging"
   ]
  },
  {
   "cell_type": "code",
   "execution_count": 8,
   "metadata": {},
   "outputs": [],
   "source": [
    "for jj in range(num_trial):\n",
    "    # sampling\n",
    "    sampler = LatinHyperCube(design_space=design_space, seed=None)\n",
    "    sample_x = sampler.get_samples(num_samples=num_sample)\n",
    "    sample_y = function.f(sample_x)\n",
    "    # gpr model\n",
    "    gprmodel  = Kriging(design_space=function._input_domain)\n",
    "    gprmodel.train(sample_x, sample_y)\n",
    "    # prediction\n",
    "    num_test = 1000\n",
    "    test_x = sampler.get_samples(num_samples=num_test)\n",
    "    test_y = function.f(test_x.copy())\n",
    "    pred_mean, pred_std = gprmodel.predict(test_x, return_std=True)\n",
    "\n",
    "    # calculate different metrics to record the accuracy of the prediction\n",
    "    mse = mean_squared_error(pred_mean, test_y)\n",
    "    r2 = r2_score(pred_mean, test_y)\n",
    "    mae = max_error(pred_mean, test_y)\n",
    "\n",
    "    # record the results\n",
    "    record_results_own[jj, :] = np.array([mse, r2, mae])"
   ]
  },
  {
   "cell_type": "code",
   "execution_count": 9,
   "metadata": {},
   "outputs": [
    {
     "name": "stdout",
     "output_type": "stream",
     "text": [
      "[[ 0.67513808  0.9997463  13.04849663]\n",
      " [ 0.09385327  0.99996122  1.91036171]\n",
      " [ 0.20893981  0.9999197   1.96084821]\n",
      " [ 1.48476232  0.99947562 14.82985479]\n",
      " [ 0.79558212  0.99967352  8.00485882]\n",
      " [ 0.08784199  0.99996671  2.65850464]\n",
      " [ 0.13206283  0.99994532  3.62769554]\n",
      " [ 2.02395952  0.99922644 20.82480017]\n",
      " [ 0.93382433  0.99965017  9.01447581]\n",
      " [ 0.08110936  0.99996958  2.27775569]]\n"
     ]
    }
   ],
   "source": [
    "print(record_results_own)"
   ]
  },
  {
   "cell_type": "code",
   "execution_count": 13,
   "metadata": {},
   "outputs": [
    {
     "data": {
      "image/png": "[encoded data removed]",
      "text/plain": [
       "<Figure size 1500x400 with 3 Axes>"
      ]
     },
     "metadata": {},
     "output_type": "display_data"
    }
   ],
   "source": [
    "# plot all results \n",
    "import matplotlib.pyplot as plt \n",
    "mse = np.array([record_results_gpy[:,0],record_results_scipy[:,0],record_results_own[:,0] ]).T\n",
    "r2 = np.array([record_results_gpy[:,1],record_results_scipy[:,1],record_results_own[:,1] ]).T\n",
    "mae = np.array([record_results_gpy[:,2],record_results_scipy[:,2],record_results_own[:,2] ]).T\n",
    "fig, ax = plt.subplots(1,3,figsize=(15,4))\n",
    "ax[0].boxplot(mse)\n",
    "ax[1].boxplot(r2)\n",
    "ax[2].boxplot(mae)\n",
    "plt.show()"
   ]
  }
 ],
 "metadata": {
  "kernelspec": {
   "display_name": "MLenv3",
   "language": "python",
   "name": "python3"
  },
  "language_info": {
   "codemirror_mode": {
    "name": "ipython",
    "version": 3
   },
   "file_extension": ".py",
   "mimetype": "text/x-python",
   "name": "python",
   "nbconvert_exporter": "python",
   "pygments_lexer": "ipython3",
   "version": "3.10.6"
  },
  "orig_nbformat": 4,
  "vscode": {
   "interpreter": {
    "hash": "5b7695ae593005ad338e3372287976f19b7c67d373f563b2f55fe01c6d782a6e"
   }
  }
 },
 "nbformat": 4,
 "nbformat_minor": 2
}
